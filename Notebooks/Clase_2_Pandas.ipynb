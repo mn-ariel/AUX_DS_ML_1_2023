{
  "nbformat": 4,
  "nbformat_minor": 0,
  "metadata": {
    "colab": {
      "provenance": []
    },
    "kernelspec": {
      "name": "python3",
      "display_name": "Python 3"
    },
    "language_info": {
      "name": "python"
    }
  },
  "cells": [
    {
      "cell_type": "markdown",
      "source": [
        "#**Pandas**\n",
        "\n",
        "Pandas es una librería de Python especializada en el manejo y análisis de estructuras de datos.\n",
        "\n",
        "**Las principales características de esta librería son:**\n",
        "\n",
        "* Define nuevas estructuras de datos basadas en los arrays de la librería NumPy \n",
        "pero con nuevas funcionalidades.\n",
        "* Permite leer y escribir fácilmente ficheros en formato CSV, Excel y bases de datos SQL.\n",
        "* Permite acceder a los datos mediante índices o nombres para filas y columnas.\n",
        "* Ofrece métodos para reordenar, dividir y combinar conjuntos de datos.\n",
        "* Permite trabajar con series temporales.\n",
        "* Realiza todas estas operaciones de manera muy eficiente."
      ],
      "metadata": {
        "id": "Hr-3odQJ1s3s"
      }
    },
    {
      "cell_type": "markdown",
      "source": [
        "![image.png](data:image/png;base64,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)"
      ],
      "metadata": {
        "id": "gOGl04YK1zhb"
      }
    },
    {
      "cell_type": "markdown",
      "source": [
        "## **Tipos de datos de Pandas**\n",
        "\n",
        "Pandas dispone de tres estructuras de datos diferentes:\n",
        "\n",
        "* **Series**: Estructura de una dimensión.\n",
        "* **DataFrame**: Estructura de dos dimensiones (tablas).\n",
        "* **Panel**: Estructura de tres dimensiones (cubos)."
      ],
      "metadata": {
        "id": "lE6jNILG2F-q"
      }
    },
    {
      "cell_type": "code",
      "execution_count": 4,
      "metadata": {
        "id": "Game3_7lQ6G6",
        "colab": {
          "base_uri": "https://localhost:8080/"
        },
        "outputId": "1cfb608d-9825-40ff-e62c-2ac56507b79a"
      },
      "outputs": [
        {
          "output_type": "stream",
          "name": "stdout",
          "text": [
            "{'alumno': ['Zutano', 'Mengano', 'Pepe', 'Fulanito, Cosme', 'Maria'], 'primer parcial': [7, 8, 7, 4, 10], 'segundo parcial': [10, 9, 4, 10, 10], 'observaciones': ['ninguna', 'libre', 'ninguna', 'libre', 'oyente'], 'CI': [23000000, 12389100, 99999, 1001, 30406011]}\n",
            "<class 'dict'>\n"
          ]
        }
      ],
      "source": [
        "datos = {'alumno': ['Zutano', 'Mengano', 'Pepe' ,'Fulanito, Cosme', 'Maria'], 'primer parcial': [7, 8,7,4, 10], 'segundo parcial': [10,9,4,10,10], 'observaciones':['ninguna','libre','ninguna','libre','oyente'], 'CI':[23000000, 12389100, 99999, 1001,30406011]}\n",
        "print(datos)\n",
        "print(type(datos))"
      ]
    },
    {
      "cell_type": "markdown",
      "source": [
        "\n",
        "El tipo de datos que más frecuentemente vamos a utilizar en la materia es el dataframes de Pandas. Un dataframe esencialmente es una tabla con columnas y filas indexadas, de forma tal que podemos acceder fácilmente a filas mediante el índice. También podemos unir, separar o filtrar dataframes trabajando sobre el índice.\n",
        "\n",
        "Los dataframes pueden tener datos no heterogéneos y además son objetos con métodos útiles para extraer información de forma rápida (por ejemplo, computar histogramas de valores). También es posible convertirlos a arrays de Numpy si así lo necesitamos, aunque no lo vamos a hacer a menos que sea realmente necesario.\n",
        "\n",
        "Una forma de construir dataframes es a partir de diccionarios, de forma tal que asignamos una lista a cada llave, que representa una columna del dataframe:"
      ],
      "metadata": {
        "id": "7Fru-5ed25B8"
      }
    },
    {
      "cell_type": "code",
      "source": [
        "# Importar Pandas a nuestro notebook\n",
        "import pandas as pd\n",
        "\n",
        "df = pd.DataFrame(datos)\n",
        "\n",
        "df"
      ],
      "metadata": {
        "colab": {
          "base_uri": "https://localhost:8080/",
          "height": 206
        },
        "id": "zVNXh2en2T2J",
        "outputId": "150e3512-7910-4623-9f56-3b6efc80a737"
      },
      "execution_count": 5,
      "outputs": [
        {
          "output_type": "execute_result",
          "data": {
            "text/plain": [
              "            alumno  primer parcial  segundo parcial observaciones        CI\n",
              "0           Zutano               7               10       ninguna  23000000\n",
              "1          Mengano               8                9         libre  12389100\n",
              "2             Pepe               7                4       ninguna     99999\n",
              "3  Fulanito, Cosme               4               10         libre      1001\n",
              "4            Maria              10               10        oyente  30406011"
            ],
            "text/html": [
              "\n",
              "  <div id=\"df-c14b6d3d-f7b2-4473-b3d9-1030b8524a78\">\n",
              "    <div class=\"colab-df-container\">\n",
              "      <div>\n",
              "<style scoped>\n",
              "    .dataframe tbody tr th:only-of-type {\n",
              "        vertical-align: middle;\n",
              "    }\n",
              "\n",
              "    .dataframe tbody tr th {\n",
              "        vertical-align: top;\n",
              "    }\n",
              "\n",
              "    .dataframe thead th {\n",
              "        text-align: right;\n",
              "    }\n",
              "</style>\n",
              "<table border=\"1\" class=\"dataframe\">\n",
              "  <thead>\n",
              "    <tr style=\"text-align: right;\">\n",
              "      <th></th>\n",
              "      <th>alumno</th>\n",
              "      <th>primer parcial</th>\n",
              "      <th>segundo parcial</th>\n",
              "      <th>observaciones</th>\n",
              "      <th>CI</th>\n",
              "    </tr>\n",
              "  </thead>\n",
              "  <tbody>\n",
              "    <tr>\n",
              "      <th>0</th>\n",
              "      <td>Zutano</td>\n",
              "      <td>7</td>\n",
              "      <td>10</td>\n",
              "      <td>ninguna</td>\n",
              "      <td>23000000</td>\n",
              "    </tr>\n",
              "    <tr>\n",
              "      <th>1</th>\n",
              "      <td>Mengano</td>\n",
              "      <td>8</td>\n",
              "      <td>9</td>\n",
              "      <td>libre</td>\n",
              "      <td>12389100</td>\n",
              "    </tr>\n",
              "    <tr>\n",
              "      <th>2</th>\n",
              "      <td>Pepe</td>\n",
              "      <td>7</td>\n",
              "      <td>4</td>\n",
              "      <td>ninguna</td>\n",
              "      <td>99999</td>\n",
              "    </tr>\n",
              "    <tr>\n",
              "      <th>3</th>\n",
              "      <td>Fulanito, Cosme</td>\n",
              "      <td>4</td>\n",
              "      <td>10</td>\n",
              "      <td>libre</td>\n",
              "      <td>1001</td>\n",
              "    </tr>\n",
              "    <tr>\n",
              "      <th>4</th>\n",
              "      <td>Maria</td>\n",
              "      <td>10</td>\n",
              "      <td>10</td>\n",
              "      <td>oyente</td>\n",
              "      <td>30406011</td>\n",
              "    </tr>\n",
              "  </tbody>\n",
              "</table>\n",
              "</div>\n",
              "      <button class=\"colab-df-convert\" onclick=\"convertToInteractive('df-c14b6d3d-f7b2-4473-b3d9-1030b8524a78')\"\n",
              "              title=\"Convert this dataframe to an interactive table.\"\n",
              "              style=\"display:none;\">\n",
              "        \n",
              "  <svg xmlns=\"http://www.w3.org/2000/svg\" height=\"24px\"viewBox=\"0 0 24 24\"\n",
              "       width=\"24px\">\n",
              "    <path d=\"M0 0h24v24H0V0z\" fill=\"none\"/>\n",
              "    <path d=\"M18.56 5.44l.94 2.06.94-2.06 2.06-.94-2.06-.94-.94-2.06-.94 2.06-2.06.94zm-11 1L8.5 8.5l.94-2.06 2.06-.94-2.06-.94L8.5 2.5l-.94 2.06-2.06.94zm10 10l.94 2.06.94-2.06 2.06-.94-2.06-.94-.94-2.06-.94 2.06-2.06.94z\"/><path d=\"M17.41 7.96l-1.37-1.37c-.4-.4-.92-.59-1.43-.59-.52 0-1.04.2-1.43.59L10.3 9.45l-7.72 7.72c-.78.78-.78 2.05 0 2.83L4 21.41c.39.39.9.59 1.41.59.51 0 1.02-.2 1.41-.59l7.78-7.78 2.81-2.81c.8-.78.8-2.07 0-2.86zM5.41 20L4 18.59l7.72-7.72 1.47 1.35L5.41 20z\"/>\n",
              "  </svg>\n",
              "      </button>\n",
              "      \n",
              "  <style>\n",
              "    .colab-df-container {\n",
              "      display:flex;\n",
              "      flex-wrap:wrap;\n",
              "      gap: 12px;\n",
              "    }\n",
              "\n",
              "    .colab-df-convert {\n",
              "      background-color: #E8F0FE;\n",
              "      border: none;\n",
              "      border-radius: 50%;\n",
              "      cursor: pointer;\n",
              "      display: none;\n",
              "      fill: #1967D2;\n",
              "      height: 32px;\n",
              "      padding: 0 0 0 0;\n",
              "      width: 32px;\n",
              "    }\n",
              "\n",
              "    .colab-df-convert:hover {\n",
              "      background-color: #E2EBFA;\n",
              "      box-shadow: 0px 1px 2px rgba(60, 64, 67, 0.3), 0px 1px 3px 1px rgba(60, 64, 67, 0.15);\n",
              "      fill: #174EA6;\n",
              "    }\n",
              "\n",
              "    [theme=dark] .colab-df-convert {\n",
              "      background-color: #3B4455;\n",
              "      fill: #D2E3FC;\n",
              "    }\n",
              "\n",
              "    [theme=dark] .colab-df-convert:hover {\n",
              "      background-color: #434B5C;\n",
              "      box-shadow: 0px 1px 3px 1px rgba(0, 0, 0, 0.15);\n",
              "      filter: drop-shadow(0px 1px 2px rgba(0, 0, 0, 0.3));\n",
              "      fill: #FFFFFF;\n",
              "    }\n",
              "  </style>\n",
              "\n",
              "      <script>\n",
              "        const buttonEl =\n",
              "          document.querySelector('#df-c14b6d3d-f7b2-4473-b3d9-1030b8524a78 button.colab-df-convert');\n",
              "        buttonEl.style.display =\n",
              "          google.colab.kernel.accessAllowed ? 'block' : 'none';\n",
              "\n",
              "        async function convertToInteractive(key) {\n",
              "          const element = document.querySelector('#df-c14b6d3d-f7b2-4473-b3d9-1030b8524a78');\n",
              "          const dataTable =\n",
              "            await google.colab.kernel.invokeFunction('convertToInteractive',\n",
              "                                                     [key], {});\n",
              "          if (!dataTable) return;\n",
              "\n",
              "          const docLinkHtml = 'Like what you see? Visit the ' +\n",
              "            '<a target=\"_blank\" href=https://colab.research.google.com/notebooks/data_table.ipynb>data table notebook</a>'\n",
              "            + ' to learn more about interactive tables.';\n",
              "          element.innerHTML = '';\n",
              "          dataTable['output_type'] = 'display_data';\n",
              "          await google.colab.output.renderOutput(dataTable, element);\n",
              "          const docLink = document.createElement('div');\n",
              "          docLink.innerHTML = docLinkHtml;\n",
              "          element.appendChild(docLink);\n",
              "        }\n",
              "      </script>\n",
              "    </div>\n",
              "  </div>\n",
              "  "
            ]
          },
          "metadata": {},
          "execution_count": 5
        }
      ]
    },
    {
      "cell_type": "code",
      "source": [
        "df.head()"
      ],
      "metadata": {
        "colab": {
          "base_uri": "https://localhost:8080/",
          "height": 206
        },
        "id": "vsIKZm5WQGWE",
        "outputId": "c363ca3b-ec1b-4943-caa3-7ef49cd0d907"
      },
      "execution_count": 6,
      "outputs": [
        {
          "output_type": "execute_result",
          "data": {
            "text/plain": [
              "            alumno  primer parcial  segundo parcial observaciones        CI\n",
              "0           Zutano               7               10       ninguna  23000000\n",
              "1          Mengano               8                9         libre  12389100\n",
              "2             Pepe               7                4       ninguna     99999\n",
              "3  Fulanito, Cosme               4               10         libre      1001\n",
              "4            Maria              10               10        oyente  30406011"
            ],
            "text/html": [
              "\n",
              "  <div id=\"df-39fd3fce-b8d6-4cde-9c49-ec8162f346c8\">\n",
              "    <div class=\"colab-df-container\">\n",
              "      <div>\n",
              "<style scoped>\n",
              "    .dataframe tbody tr th:only-of-type {\n",
              "        vertical-align: middle;\n",
              "    }\n",
              "\n",
              "    .dataframe tbody tr th {\n",
              "        vertical-align: top;\n",
              "    }\n",
              "\n",
              "    .dataframe thead th {\n",
              "        text-align: right;\n",
              "    }\n",
              "</style>\n",
              "<table border=\"1\" class=\"dataframe\">\n",
              "  <thead>\n",
              "    <tr style=\"text-align: right;\">\n",
              "      <th></th>\n",
              "      <th>alumno</th>\n",
              "      <th>primer parcial</th>\n",
              "      <th>segundo parcial</th>\n",
              "      <th>observaciones</th>\n",
              "      <th>CI</th>\n",
              "    </tr>\n",
              "  </thead>\n",
              "  <tbody>\n",
              "    <tr>\n",
              "      <th>0</th>\n",
              "      <td>Zutano</td>\n",
              "      <td>7</td>\n",
              "      <td>10</td>\n",
              "      <td>ninguna</td>\n",
              "      <td>23000000</td>\n",
              "    </tr>\n",
              "    <tr>\n",
              "      <th>1</th>\n",
              "      <td>Mengano</td>\n",
              "      <td>8</td>\n",
              "      <td>9</td>\n",
              "      <td>libre</td>\n",
              "      <td>12389100</td>\n",
              "    </tr>\n",
              "    <tr>\n",
              "      <th>2</th>\n",
              "      <td>Pepe</td>\n",
              "      <td>7</td>\n",
              "      <td>4</td>\n",
              "      <td>ninguna</td>\n",
              "      <td>99999</td>\n",
              "    </tr>\n",
              "    <tr>\n",
              "      <th>3</th>\n",
              "      <td>Fulanito, Cosme</td>\n",
              "      <td>4</td>\n",
              "      <td>10</td>\n",
              "      <td>libre</td>\n",
              "      <td>1001</td>\n",
              "    </tr>\n",
              "    <tr>\n",
              "      <th>4</th>\n",
              "      <td>Maria</td>\n",
              "      <td>10</td>\n",
              "      <td>10</td>\n",
              "      <td>oyente</td>\n",
              "      <td>30406011</td>\n",
              "    </tr>\n",
              "  </tbody>\n",
              "</table>\n",
              "</div>\n",
              "      <button class=\"colab-df-convert\" onclick=\"convertToInteractive('df-39fd3fce-b8d6-4cde-9c49-ec8162f346c8')\"\n",
              "              title=\"Convert this dataframe to an interactive table.\"\n",
              "              style=\"display:none;\">\n",
              "        \n",
              "  <svg xmlns=\"http://www.w3.org/2000/svg\" height=\"24px\"viewBox=\"0 0 24 24\"\n",
              "       width=\"24px\">\n",
              "    <path d=\"M0 0h24v24H0V0z\" fill=\"none\"/>\n",
              "    <path d=\"M18.56 5.44l.94 2.06.94-2.06 2.06-.94-2.06-.94-.94-2.06-.94 2.06-2.06.94zm-11 1L8.5 8.5l.94-2.06 2.06-.94-2.06-.94L8.5 2.5l-.94 2.06-2.06.94zm10 10l.94 2.06.94-2.06 2.06-.94-2.06-.94-.94-2.06-.94 2.06-2.06.94z\"/><path d=\"M17.41 7.96l-1.37-1.37c-.4-.4-.92-.59-1.43-.59-.52 0-1.04.2-1.43.59L10.3 9.45l-7.72 7.72c-.78.78-.78 2.05 0 2.83L4 21.41c.39.39.9.59 1.41.59.51 0 1.02-.2 1.41-.59l7.78-7.78 2.81-2.81c.8-.78.8-2.07 0-2.86zM5.41 20L4 18.59l7.72-7.72 1.47 1.35L5.41 20z\"/>\n",
              "  </svg>\n",
              "      </button>\n",
              "      \n",
              "  <style>\n",
              "    .colab-df-container {\n",
              "      display:flex;\n",
              "      flex-wrap:wrap;\n",
              "      gap: 12px;\n",
              "    }\n",
              "\n",
              "    .colab-df-convert {\n",
              "      background-color: #E8F0FE;\n",
              "      border: none;\n",
              "      border-radius: 50%;\n",
              "      cursor: pointer;\n",
              "      display: none;\n",
              "      fill: #1967D2;\n",
              "      height: 32px;\n",
              "      padding: 0 0 0 0;\n",
              "      width: 32px;\n",
              "    }\n",
              "\n",
              "    .colab-df-convert:hover {\n",
              "      background-color: #E2EBFA;\n",
              "      box-shadow: 0px 1px 2px rgba(60, 64, 67, 0.3), 0px 1px 3px 1px rgba(60, 64, 67, 0.15);\n",
              "      fill: #174EA6;\n",
              "    }\n",
              "\n",
              "    [theme=dark] .colab-df-convert {\n",
              "      background-color: #3B4455;\n",
              "      fill: #D2E3FC;\n",
              "    }\n",
              "\n",
              "    [theme=dark] .colab-df-convert:hover {\n",
              "      background-color: #434B5C;\n",
              "      box-shadow: 0px 1px 3px 1px rgba(0, 0, 0, 0.15);\n",
              "      filter: drop-shadow(0px 1px 2px rgba(0, 0, 0, 0.3));\n",
              "      fill: #FFFFFF;\n",
              "    }\n",
              "  </style>\n",
              "\n",
              "      <script>\n",
              "        const buttonEl =\n",
              "          document.querySelector('#df-39fd3fce-b8d6-4cde-9c49-ec8162f346c8 button.colab-df-convert');\n",
              "        buttonEl.style.display =\n",
              "          google.colab.kernel.accessAllowed ? 'block' : 'none';\n",
              "\n",
              "        async function convertToInteractive(key) {\n",
              "          const element = document.querySelector('#df-39fd3fce-b8d6-4cde-9c49-ec8162f346c8');\n",
              "          const dataTable =\n",
              "            await google.colab.kernel.invokeFunction('convertToInteractive',\n",
              "                                                     [key], {});\n",
              "          if (!dataTable) return;\n",
              "\n",
              "          const docLinkHtml = 'Like what you see? Visit the ' +\n",
              "            '<a target=\"_blank\" href=https://colab.research.google.com/notebooks/data_table.ipynb>data table notebook</a>'\n",
              "            + ' to learn more about interactive tables.';\n",
              "          element.innerHTML = '';\n",
              "          dataTable['output_type'] = 'display_data';\n",
              "          await google.colab.output.renderOutput(dataTable, element);\n",
              "          const docLink = document.createElement('div');\n",
              "          docLink.innerHTML = docLinkHtml;\n",
              "          element.appendChild(docLink);\n",
              "        }\n",
              "      </script>\n",
              "    </div>\n",
              "  </div>\n",
              "  "
            ]
          },
          "metadata": {},
          "execution_count": 6
        }
      ]
    },
    {
      "cell_type": "markdown",
      "source": [
        "Vemos que las filas están identificadas con números (0,1,2). Esos números corresponden al índice (index). Podemos obtener las columnas y el índice de un dataframe como listas usando los siguientes métodos:"
      ],
      "metadata": {
        "id": "fP7eTsV43Ova"
      }
    },
    {
      "cell_type": "code",
      "source": [
        "print(list(df.columns))\n",
        "print(list(df.index))"
      ],
      "metadata": {
        "colab": {
          "base_uri": "https://localhost:8080/"
        },
        "id": "eYq8jDHg3PUa",
        "outputId": "574b349b-059a-4e3a-8ef3-819e9d49e578"
      },
      "execution_count": null,
      "outputs": [
        {
          "output_type": "stream",
          "name": "stdout",
          "text": [
            "['alumno', 'primer parcial', 'segundo parcial', 'observaciones', 'CI']\n",
            "[0, 1, 2, 3, 4]\n"
          ]
        }
      ]
    },
    {
      "cell_type": "markdown",
      "source": [
        "Podemos ademas seleccionar una columna del dataframe como si se tratase de un diccionario. El objeto resultante se llama \"series\":"
      ],
      "metadata": {
        "id": "QIXklokD35Vy"
      }
    },
    {
      "cell_type": "code",
      "source": [
        "print(type(df))\n",
        "print(df['alumno'])\n",
        "print(type(df['alumno']))"
      ],
      "metadata": {
        "colab": {
          "base_uri": "https://localhost:8080/"
        },
        "id": "5QbD-Vfm35xK",
        "outputId": "b492be4b-4b3b-4b3d-ee1e-7f947855b1bb"
      },
      "execution_count": null,
      "outputs": [
        {
          "output_type": "stream",
          "name": "stdout",
          "text": [
            "<class 'pandas.core.frame.DataFrame'>\n",
            "0             Zutano\n",
            "1            Mengano\n",
            "2               Pepe\n",
            "3    Fulanito, Cosme\n",
            "4              Maria\n",
            "Name: alumno, dtype: object\n",
            "<class 'pandas.core.series.Series'>\n"
          ]
        }
      ]
    },
    {
      "cell_type": "markdown",
      "source": [
        "Para obtener files en vez de columnas, podemos usar el método df.loc con una lista de los índices que queremos acceder:"
      ],
      "metadata": {
        "id": "L05k0ia64APy"
      }
    },
    {
      "cell_type": "code",
      "source": [
        "df.loc[2]"
      ],
      "metadata": {
        "colab": {
          "base_uri": "https://localhost:8080/"
        },
        "id": "cqbq6cjo36ya",
        "outputId": "7a379084-287d-44bb-bd4c-94ac303002fe"
      },
      "execution_count": null,
      "outputs": [
        {
          "output_type": "execute_result",
          "data": {
            "text/plain": [
              "alumno                Pepe\n",
              "primer parcial           7\n",
              "segundo parcial          4\n",
              "observaciones      ninguna\n",
              "CI                   99999\n",
              "Name: 2, dtype: object"
            ]
          },
          "metadata": {},
          "execution_count": 50
        }
      ]
    },
    {
      "cell_type": "markdown",
      "source": [
        "O bien:"
      ],
      "metadata": {
        "id": "FusuZqIo4tmi"
      }
    },
    {
      "cell_type": "code",
      "source": [
        "df.loc[2:4]"
      ],
      "metadata": {
        "colab": {
          "base_uri": "https://localhost:8080/",
          "height": 143
        },
        "id": "aijzpUly4t8i",
        "outputId": "e3e8534c-5afa-4e55-a43e-ce9f699d676d"
      },
      "execution_count": null,
      "outputs": [
        {
          "output_type": "execute_result",
          "data": {
            "text/plain": [
              "            alumno  primer parcial  segundo parcial observaciones        CI\n",
              "2             Pepe               7                4       ninguna     99999\n",
              "3  Fulanito, Cosme               4               10         libre      1001\n",
              "4            Maria              10               10        oyente  30406011"
            ],
            "text/html": [
              "\n",
              "  <div id=\"df-67bdfc93-2d39-4326-bd30-76a7404fc260\">\n",
              "    <div class=\"colab-df-container\">\n",
              "      <div>\n",
              "<style scoped>\n",
              "    .dataframe tbody tr th:only-of-type {\n",
              "        vertical-align: middle;\n",
              "    }\n",
              "\n",
              "    .dataframe tbody tr th {\n",
              "        vertical-align: top;\n",
              "    }\n",
              "\n",
              "    .dataframe thead th {\n",
              "        text-align: right;\n",
              "    }\n",
              "</style>\n",
              "<table border=\"1\" class=\"dataframe\">\n",
              "  <thead>\n",
              "    <tr style=\"text-align: right;\">\n",
              "      <th></th>\n",
              "      <th>alumno</th>\n",
              "      <th>primer parcial</th>\n",
              "      <th>segundo parcial</th>\n",
              "      <th>observaciones</th>\n",
              "      <th>CI</th>\n",
              "    </tr>\n",
              "  </thead>\n",
              "  <tbody>\n",
              "    <tr>\n",
              "      <th>2</th>\n",
              "      <td>Pepe</td>\n",
              "      <td>7</td>\n",
              "      <td>4</td>\n",
              "      <td>ninguna</td>\n",
              "      <td>99999</td>\n",
              "    </tr>\n",
              "    <tr>\n",
              "      <th>3</th>\n",
              "      <td>Fulanito, Cosme</td>\n",
              "      <td>4</td>\n",
              "      <td>10</td>\n",
              "      <td>libre</td>\n",
              "      <td>1001</td>\n",
              "    </tr>\n",
              "    <tr>\n",
              "      <th>4</th>\n",
              "      <td>Maria</td>\n",
              "      <td>10</td>\n",
              "      <td>10</td>\n",
              "      <td>oyente</td>\n",
              "      <td>30406011</td>\n",
              "    </tr>\n",
              "  </tbody>\n",
              "</table>\n",
              "</div>\n",
              "      <button class=\"colab-df-convert\" onclick=\"convertToInteractive('df-67bdfc93-2d39-4326-bd30-76a7404fc260')\"\n",
              "              title=\"Convert this dataframe to an interactive table.\"\n",
              "              style=\"display:none;\">\n",
              "        \n",
              "  <svg xmlns=\"http://www.w3.org/2000/svg\" height=\"24px\"viewBox=\"0 0 24 24\"\n",
              "       width=\"24px\">\n",
              "    <path d=\"M0 0h24v24H0V0z\" fill=\"none\"/>\n",
              "    <path d=\"M18.56 5.44l.94 2.06.94-2.06 2.06-.94-2.06-.94-.94-2.06-.94 2.06-2.06.94zm-11 1L8.5 8.5l.94-2.06 2.06-.94-2.06-.94L8.5 2.5l-.94 2.06-2.06.94zm10 10l.94 2.06.94-2.06 2.06-.94-2.06-.94-.94-2.06-.94 2.06-2.06.94z\"/><path d=\"M17.41 7.96l-1.37-1.37c-.4-.4-.92-.59-1.43-.59-.52 0-1.04.2-1.43.59L10.3 9.45l-7.72 7.72c-.78.78-.78 2.05 0 2.83L4 21.41c.39.39.9.59 1.41.59.51 0 1.02-.2 1.41-.59l7.78-7.78 2.81-2.81c.8-.78.8-2.07 0-2.86zM5.41 20L4 18.59l7.72-7.72 1.47 1.35L5.41 20z\"/>\n",
              "  </svg>\n",
              "      </button>\n",
              "      \n",
              "  <style>\n",
              "    .colab-df-container {\n",
              "      display:flex;\n",
              "      flex-wrap:wrap;\n",
              "      gap: 12px;\n",
              "    }\n",
              "\n",
              "    .colab-df-convert {\n",
              "      background-color: #E8F0FE;\n",
              "      border: none;\n",
              "      border-radius: 50%;\n",
              "      cursor: pointer;\n",
              "      display: none;\n",
              "      fill: #1967D2;\n",
              "      height: 32px;\n",
              "      padding: 0 0 0 0;\n",
              "      width: 32px;\n",
              "    }\n",
              "\n",
              "    .colab-df-convert:hover {\n",
              "      background-color: #E2EBFA;\n",
              "      box-shadow: 0px 1px 2px rgba(60, 64, 67, 0.3), 0px 1px 3px 1px rgba(60, 64, 67, 0.15);\n",
              "      fill: #174EA6;\n",
              "    }\n",
              "\n",
              "    [theme=dark] .colab-df-convert {\n",
              "      background-color: #3B4455;\n",
              "      fill: #D2E3FC;\n",
              "    }\n",
              "\n",
              "    [theme=dark] .colab-df-convert:hover {\n",
              "      background-color: #434B5C;\n",
              "      box-shadow: 0px 1px 3px 1px rgba(0, 0, 0, 0.15);\n",
              "      filter: drop-shadow(0px 1px 2px rgba(0, 0, 0, 0.3));\n",
              "      fill: #FFFFFF;\n",
              "    }\n",
              "  </style>\n",
              "\n",
              "      <script>\n",
              "        const buttonEl =\n",
              "          document.querySelector('#df-67bdfc93-2d39-4326-bd30-76a7404fc260 button.colab-df-convert');\n",
              "        buttonEl.style.display =\n",
              "          google.colab.kernel.accessAllowed ? 'block' : 'none';\n",
              "\n",
              "        async function convertToInteractive(key) {\n",
              "          const element = document.querySelector('#df-67bdfc93-2d39-4326-bd30-76a7404fc260');\n",
              "          const dataTable =\n",
              "            await google.colab.kernel.invokeFunction('convertToInteractive',\n",
              "                                                     [key], {});\n",
              "          if (!dataTable) return;\n",
              "\n",
              "          const docLinkHtml = 'Like what you see? Visit the ' +\n",
              "            '<a target=\"_blank\" href=https://colab.research.google.com/notebooks/data_table.ipynb>data table notebook</a>'\n",
              "            + ' to learn more about interactive tables.';\n",
              "          element.innerHTML = '';\n",
              "          dataTable['output_type'] = 'display_data';\n",
              "          await google.colab.output.renderOutput(dataTable, element);\n",
              "          const docLink = document.createElement('div');\n",
              "          docLink.innerHTML = docLinkHtml;\n",
              "          element.appendChild(docLink);\n",
              "        }\n",
              "      </script>\n",
              "    </div>\n",
              "  </div>\n",
              "  "
            ]
          },
          "metadata": {},
          "execution_count": 51
        }
      ]
    },
    {
      "cell_type": "markdown",
      "source": [
        "Podríamos haber querido otro índice en vez de [0,1,2,...] para nuestro dataframe. En ese caso, le agregamos el parámetro index a la hora de crearlo:"
      ],
      "metadata": {
        "id": "TkDnxzP64v98"
      }
    },
    {
      "cell_type": "code",
      "source": [
        "datos = {'alumno': ['Zutano', 'Mengano', 'Pepe' ,'Fulanito, Cosme', 'Maria'], 'primer parcial': [7, 8,7,4, 10], 'segundo parcial': [10,9,4,10,10], 'observaciones':['ninguna','libre','ninguna','libre','oyente'], 'CI':[23000000, 12389100, 99999, 1001,30406011]}\n",
        "df = pd.DataFrame(datos, index=['uno',3,'cinco',7,'nueve'])\n",
        "df.loc['uno']\n",
        "print(df)"
      ],
      "metadata": {
        "colab": {
          "base_uri": "https://localhost:8080/"
        },
        "id": "JBG5NhaC40rj",
        "outputId": "e074afb0-611f-49aa-bed8-04bf028f8c68"
      },
      "execution_count": 8,
      "outputs": [
        {
          "output_type": "stream",
          "name": "stdout",
          "text": [
            "                alumno  primer parcial  segundo parcial observaciones  \\\n",
            "uno             Zutano               7               10       ninguna   \n",
            "3              Mengano               8                9         libre   \n",
            "cinco             Pepe               7                4       ninguna   \n",
            "7      Fulanito, Cosme               4               10         libre   \n",
            "nueve            Maria              10               10        oyente   \n",
            "\n",
            "             CI  \n",
            "uno    23000000  \n",
            "3      12389100  \n",
            "cinco     99999  \n",
            "7          1001  \n",
            "nueve  30406011  \n"
          ]
        }
      ]
    },
    {
      "cell_type": "markdown",
      "source": [
        "Y el proceso de ubicar filas es igual al anterior:"
      ],
      "metadata": {
        "id": "nBj5wTap414j"
      }
    },
    {
      "cell_type": "code",
      "source": [
        "df.loc[[7,'uno']]"
      ],
      "metadata": {
        "colab": {
          "base_uri": "https://localhost:8080/",
          "height": 112
        },
        "id": "KGjwbyLD435L",
        "outputId": "1a39b11e-ed22-408d-f131-0d14014aa776"
      },
      "execution_count": 9,
      "outputs": [
        {
          "output_type": "execute_result",
          "data": {
            "text/plain": [
              "              alumno  primer parcial  segundo parcial observaciones        CI\n",
              "7    Fulanito, Cosme               4               10         libre      1001\n",
              "uno           Zutano               7               10       ninguna  23000000"
            ],
            "text/html": [
              "\n",
              "  <div id=\"df-64bdd1ed-d3bc-48af-818a-1e3e1b3b0b6f\">\n",
              "    <div class=\"colab-df-container\">\n",
              "      <div>\n",
              "<style scoped>\n",
              "    .dataframe tbody tr th:only-of-type {\n",
              "        vertical-align: middle;\n",
              "    }\n",
              "\n",
              "    .dataframe tbody tr th {\n",
              "        vertical-align: top;\n",
              "    }\n",
              "\n",
              "    .dataframe thead th {\n",
              "        text-align: right;\n",
              "    }\n",
              "</style>\n",
              "<table border=\"1\" class=\"dataframe\">\n",
              "  <thead>\n",
              "    <tr style=\"text-align: right;\">\n",
              "      <th></th>\n",
              "      <th>alumno</th>\n",
              "      <th>primer parcial</th>\n",
              "      <th>segundo parcial</th>\n",
              "      <th>observaciones</th>\n",
              "      <th>CI</th>\n",
              "    </tr>\n",
              "  </thead>\n",
              "  <tbody>\n",
              "    <tr>\n",
              "      <th>7</th>\n",
              "      <td>Fulanito, Cosme</td>\n",
              "      <td>4</td>\n",
              "      <td>10</td>\n",
              "      <td>libre</td>\n",
              "      <td>1001</td>\n",
              "    </tr>\n",
              "    <tr>\n",
              "      <th>uno</th>\n",
              "      <td>Zutano</td>\n",
              "      <td>7</td>\n",
              "      <td>10</td>\n",
              "      <td>ninguna</td>\n",
              "      <td>23000000</td>\n",
              "    </tr>\n",
              "  </tbody>\n",
              "</table>\n",
              "</div>\n",
              "      <button class=\"colab-df-convert\" onclick=\"convertToInteractive('df-64bdd1ed-d3bc-48af-818a-1e3e1b3b0b6f')\"\n",
              "              title=\"Convert this dataframe to an interactive table.\"\n",
              "              style=\"display:none;\">\n",
              "        \n",
              "  <svg xmlns=\"http://www.w3.org/2000/svg\" height=\"24px\"viewBox=\"0 0 24 24\"\n",
              "       width=\"24px\">\n",
              "    <path d=\"M0 0h24v24H0V0z\" fill=\"none\"/>\n",
              "    <path d=\"M18.56 5.44l.94 2.06.94-2.06 2.06-.94-2.06-.94-.94-2.06-.94 2.06-2.06.94zm-11 1L8.5 8.5l.94-2.06 2.06-.94-2.06-.94L8.5 2.5l-.94 2.06-2.06.94zm10 10l.94 2.06.94-2.06 2.06-.94-2.06-.94-.94-2.06-.94 2.06-2.06.94z\"/><path d=\"M17.41 7.96l-1.37-1.37c-.4-.4-.92-.59-1.43-.59-.52 0-1.04.2-1.43.59L10.3 9.45l-7.72 7.72c-.78.78-.78 2.05 0 2.83L4 21.41c.39.39.9.59 1.41.59.51 0 1.02-.2 1.41-.59l7.78-7.78 2.81-2.81c.8-.78.8-2.07 0-2.86zM5.41 20L4 18.59l7.72-7.72 1.47 1.35L5.41 20z\"/>\n",
              "  </svg>\n",
              "      </button>\n",
              "      \n",
              "  <style>\n",
              "    .colab-df-container {\n",
              "      display:flex;\n",
              "      flex-wrap:wrap;\n",
              "      gap: 12px;\n",
              "    }\n",
              "\n",
              "    .colab-df-convert {\n",
              "      background-color: #E8F0FE;\n",
              "      border: none;\n",
              "      border-radius: 50%;\n",
              "      cursor: pointer;\n",
              "      display: none;\n",
              "      fill: #1967D2;\n",
              "      height: 32px;\n",
              "      padding: 0 0 0 0;\n",
              "      width: 32px;\n",
              "    }\n",
              "\n",
              "    .colab-df-convert:hover {\n",
              "      background-color: #E2EBFA;\n",
              "      box-shadow: 0px 1px 2px rgba(60, 64, 67, 0.3), 0px 1px 3px 1px rgba(60, 64, 67, 0.15);\n",
              "      fill: #174EA6;\n",
              "    }\n",
              "\n",
              "    [theme=dark] .colab-df-convert {\n",
              "      background-color: #3B4455;\n",
              "      fill: #D2E3FC;\n",
              "    }\n",
              "\n",
              "    [theme=dark] .colab-df-convert:hover {\n",
              "      background-color: #434B5C;\n",
              "      box-shadow: 0px 1px 3px 1px rgba(0, 0, 0, 0.15);\n",
              "      filter: drop-shadow(0px 1px 2px rgba(0, 0, 0, 0.3));\n",
              "      fill: #FFFFFF;\n",
              "    }\n",
              "  </style>\n",
              "\n",
              "      <script>\n",
              "        const buttonEl =\n",
              "          document.querySelector('#df-64bdd1ed-d3bc-48af-818a-1e3e1b3b0b6f button.colab-df-convert');\n",
              "        buttonEl.style.display =\n",
              "          google.colab.kernel.accessAllowed ? 'block' : 'none';\n",
              "\n",
              "        async function convertToInteractive(key) {\n",
              "          const element = document.querySelector('#df-64bdd1ed-d3bc-48af-818a-1e3e1b3b0b6f');\n",
              "          const dataTable =\n",
              "            await google.colab.kernel.invokeFunction('convertToInteractive',\n",
              "                                                     [key], {});\n",
              "          if (!dataTable) return;\n",
              "\n",
              "          const docLinkHtml = 'Like what you see? Visit the ' +\n",
              "            '<a target=\"_blank\" href=https://colab.research.google.com/notebooks/data_table.ipynb>data table notebook</a>'\n",
              "            + ' to learn more about interactive tables.';\n",
              "          element.innerHTML = '';\n",
              "          dataTable['output_type'] = 'display_data';\n",
              "          await google.colab.output.renderOutput(dataTable, element);\n",
              "          const docLink = document.createElement('div');\n",
              "          docLink.innerHTML = docLinkHtml;\n",
              "          element.appendChild(docLink);\n",
              "        }\n",
              "      </script>\n",
              "    </div>\n",
              "  </div>\n",
              "  "
            ]
          },
          "metadata": {},
          "execution_count": 9
        }
      ]
    },
    {
      "cell_type": "markdown",
      "source": [
        "Puede que ya hayamos creado un dataframe y después de hacerlo nos demos cuenta de que una de las columnas tiene más sentido como índice que otra. En ese caso, lo que buscamos es reindexar el dataframe usando los valores de esa columna. En general conviene utilizar como índice algo que sea un identificador único de cada elemento en el dataframe; en este caso, el CI puede cumplir con esa función.\n"
      ],
      "metadata": {
        "id": "TztksFLG49Bb"
      }
    },
    {
      "cell_type": "code",
      "source": [
        "df_CI = df.set_index('CI')\n",
        "print(df_CI)"
      ],
      "metadata": {
        "colab": {
          "base_uri": "https://localhost:8080/"
        },
        "id": "GU1kg7c449Xj",
        "outputId": "e509c505-e998-4155-98fd-95dfd42e41f5"
      },
      "execution_count": null,
      "outputs": [
        {
          "output_type": "stream",
          "name": "stdout",
          "text": [
            "                   alumno  primer parcial  segundo parcial observaciones\n",
            "CI                                                                      \n",
            "23000000           Zutano             7.0             10.0       ninguna\n",
            "12389100          Mengano             8.0              9.0         libre\n",
            "23000000           Zutano             7.0             10.0       ninguna\n",
            "99999                Pepe             7.0              4.0       ninguna\n",
            "1001      Fulanito, Cosme             NaN             10.0         libre\n",
            "30406011            Maria            10.0              NaN        oyente\n"
          ]
        }
      ]
    },
    {
      "cell_type": "markdown",
      "source": [
        "Una ventaja del dataframe son los métodos que tiene para la limpieza de datos. Esto es útil si por ejemplo queremos descartar filas o columnas duplicadas o con datos faltantes. Supongamos que tenemos un dataframe en el cual faltan algunos datos (identificados con \"nan\") y algunas de las filas están duplicadas."
      ],
      "metadata": {
        "id": "Ucepu0MO5FtD"
      }
    },
    {
      "cell_type": "code",
      "source": [
        "import numpy as np # necesito numpy para escribir nan\n",
        "datos = {'alumno': ['Zutano', 'Mengano', 'Zutano','Pepe' ,'Fulanito, Cosme', 'Maria'], 'primer parcial': [7, 8,7,7,np.nan, 10], 'segundo parcial': [10,9,10,4,10,np.nan], 'observaciones':['ninguna','libre','ninguna','ninguna','libre','oyente'], 'CI':[23000000, 12389100,23000000, 99999, 1001,30406011]}\n",
        "df = pd.DataFrame(datos)\n",
        "print(df)\n"
      ],
      "metadata": {
        "colab": {
          "base_uri": "https://localhost:8080/"
        },
        "id": "F9e38Jq45HDM",
        "outputId": "539dc684-55a1-4d9a-8258-486b5043764f"
      },
      "execution_count": 10,
      "outputs": [
        {
          "output_type": "stream",
          "name": "stdout",
          "text": [
            "            alumno  primer parcial  segundo parcial observaciones        CI\n",
            "0           Zutano             7.0             10.0       ninguna  23000000\n",
            "1          Mengano             8.0              9.0         libre  12389100\n",
            "2           Zutano             7.0             10.0       ninguna  23000000\n",
            "3             Pepe             7.0              4.0       ninguna     99999\n",
            "4  Fulanito, Cosme             NaN             10.0         libre      1001\n",
            "5            Maria            10.0              NaN        oyente  30406011\n"
          ]
        }
      ]
    },
    {
      "cell_type": "markdown",
      "source": [
        "Eliminamos las columnas que tienen Nan. Para eso usamos el método df.dropna()"
      ],
      "metadata": {
        "id": "_X0PThj-5QgS"
      }
    },
    {
      "cell_type": "code",
      "source": [
        "df_2 = df.dropna()\n",
        "print(df_2)"
      ],
      "metadata": {
        "colab": {
          "base_uri": "https://localhost:8080/"
        },
        "id": "lPOTj57M5Qyq",
        "outputId": "64149c25-5184-4ca8-c969-1b628414e28e"
      },
      "execution_count": 11,
      "outputs": [
        {
          "output_type": "stream",
          "name": "stdout",
          "text": [
            "    alumno  primer parcial  segundo parcial observaciones        CI\n",
            "0   Zutano             7.0             10.0       ninguna  23000000\n",
            "1  Mengano             8.0              9.0         libre  12389100\n",
            "2   Zutano             7.0             10.0       ninguna  23000000\n",
            "3     Pepe             7.0              4.0       ninguna     99999\n"
          ]
        }
      ]
    },
    {
      "cell_type": "markdown",
      "source": [
        "Observemos que había varias maneras de hacer esto. Por ejemplo, podríamos haber querido eliminar las columnas que tenían un nan, en vez de las filas:"
      ],
      "metadata": {
        "id": "r0WLruy65V-S"
      }
    },
    {
      "cell_type": "code",
      "source": [
        "df_3 = df.dropna(axis=1)\n",
        "print(df_3)"
      ],
      "metadata": {
        "colab": {
          "base_uri": "https://localhost:8080/"
        },
        "id": "B547fgax5WNC",
        "outputId": "2828adab-9ba7-476c-c259-17e2a9c5120c"
      },
      "execution_count": null,
      "outputs": [
        {
          "output_type": "stream",
          "name": "stdout",
          "text": [
            "            alumno observaciones        CI\n",
            "0           Zutano       ninguna  23000000\n",
            "1          Mengano         libre  12389100\n",
            "2           Zutano       ninguna  23000000\n",
            "3             Pepe       ninguna     99999\n",
            "4  Fulanito, Cosme         libre      1001\n",
            "5            Maria        oyente  30406011\n"
          ]
        }
      ]
    },
    {
      "cell_type": "code",
      "source": [
        "df.dropna?"
      ],
      "metadata": {
        "id": "3Z0le38v5ZkE"
      },
      "execution_count": null,
      "outputs": []
    },
    {
      "cell_type": "markdown",
      "source": [
        "O podríamos haber querido eliminar las filas que tengan TODOS los valores nan.\n",
        "También podríamos haber específicado un subset de las columnas para verificar si las filas tienen valores nan y removerlas en ese caso."
      ],
      "metadata": {
        "id": "1L4NUiaH5nfG"
      }
    },
    {
      "cell_type": "code",
      "source": [
        "df_4 = df.dropna(how='all')\n",
        "print(df_4)\n",
        "df_5 = df.dropna(subset=['primer parcial','observaciones'])\n",
        "print(df_5)"
      ],
      "metadata": {
        "colab": {
          "base_uri": "https://localhost:8080/"
        },
        "id": "xwbR5kjm5oTr",
        "outputId": "0b623870-a1ed-4fd3-ea51-e02e12845ec0"
      },
      "execution_count": 12,
      "outputs": [
        {
          "output_type": "stream",
          "name": "stdout",
          "text": [
            "            alumno  primer parcial  segundo parcial observaciones        CI\n",
            "0           Zutano             7.0             10.0       ninguna  23000000\n",
            "1          Mengano             8.0              9.0         libre  12389100\n",
            "2           Zutano             7.0             10.0       ninguna  23000000\n",
            "3             Pepe             7.0              4.0       ninguna     99999\n",
            "4  Fulanito, Cosme             NaN             10.0         libre      1001\n",
            "5            Maria            10.0              NaN        oyente  30406011\n",
            "    alumno  primer parcial  segundo parcial observaciones        CI\n",
            "0   Zutano             7.0             10.0       ninguna  23000000\n",
            "1  Mengano             8.0              9.0         libre  12389100\n",
            "2   Zutano             7.0             10.0       ninguna  23000000\n",
            "3     Pepe             7.0              4.0       ninguna     99999\n",
            "5    Maria            10.0              NaN        oyente  30406011\n"
          ]
        }
      ]
    },
    {
      "cell_type": "markdown",
      "source": [
        "En ese caso no removemos ninguna fila, porque ninguna tiene todos sus valores nan. Podemos consultar la documentación de pandas para más opciones (por ejemplo, únicamente eliminar filas que tengan más de N valores iguales a nan).\n",
        "\n",
        "Por último, puede que no queramos crear un dataframe nuevo. En ese caso, hacemos lo siguiente y modificamos el dataframe original:"
      ],
      "metadata": {
        "id": "KBZ3MszW5o3z"
      }
    },
    {
      "cell_type": "code",
      "source": [
        "df.dropna(inplace = True)\n",
        "print(df)"
      ],
      "metadata": {
        "colab": {
          "base_uri": "https://localhost:8080/"
        },
        "id": "toIQGqRB5rJj",
        "outputId": "4c2ef188-d458-492f-b08c-e2a7fac71339"
      },
      "execution_count": null,
      "outputs": [
        {
          "output_type": "stream",
          "name": "stdout",
          "text": [
            "    alumno  primer parcial  segundo parcial observaciones        CI\n",
            "0   Zutano             7.0             10.0       ninguna  23000000\n",
            "1  Mengano             8.0              9.0         libre  12389100\n",
            "2   Zutano             7.0             10.0       ninguna  23000000\n",
            "3     Pepe             7.0              4.0       ninguna     99999\n"
          ]
        }
      ]
    },
    {
      "cell_type": "markdown",
      "source": [
        "Puede que no queramos eliminar las filas o columnas que tienen nan, sino llenar esas entradas usando algun valor fijo, o un promedio de las demás entradas de la fila o la columna. Para eso volvemos a definir el dataframe (porque lo modificamos en el bloque de código anterior) y luego probamos el método df.fillna()"
      ],
      "metadata": {
        "id": "fhNoftHk59MN"
      }
    },
    {
      "cell_type": "code",
      "source": [
        "datos = {'alumno': ['Zutano', 'Mengano', 'Zutano','Pepe' ,'Fulanito, Cosme', 'Maria'], 'primer parcial': [7, 8,7,7,np.nan, 10], 'segundo parcial': [10,9,10,4,10,np.nan], 'observaciones':['ninguna','libre','ninguna','ninguna','libre','oyente'], 'CI':[23000000, 12389100,23000000, 99999, 1001,30406011]}\n",
        "df = pd.DataFrame(datos)\n",
        "print(df)\n"
      ],
      "metadata": {
        "colab": {
          "base_uri": "https://localhost:8080/"
        },
        "id": "txZOughv59g0",
        "outputId": "d91bc4bc-fb01-47a1-bf36-fd642f1b88d6"
      },
      "execution_count": 21,
      "outputs": [
        {
          "output_type": "stream",
          "name": "stdout",
          "text": [
            "            alumno  primer parcial  segundo parcial observaciones        CI\n",
            "0           Zutano             7.0             10.0       ninguna  23000000\n",
            "1          Mengano             8.0              9.0         libre  12389100\n",
            "2           Zutano             7.0             10.0       ninguna  23000000\n",
            "3             Pepe             7.0              4.0       ninguna     99999\n",
            "4  Fulanito, Cosme             NaN             10.0         libre      1001\n",
            "5            Maria            10.0              NaN        oyente  30406011\n"
          ]
        }
      ]
    },
    {
      "cell_type": "code",
      "source": [
        "df_2 = df.fillna(10)\n",
        "print(df_2)"
      ],
      "metadata": {
        "colab": {
          "base_uri": "https://localhost:8080/"
        },
        "id": "eSOm-a4rSpNX",
        "outputId": "b3985afb-c9e1-4fbc-b9d4-8cc6f723f2b9"
      },
      "execution_count": 16,
      "outputs": [
        {
          "output_type": "stream",
          "name": "stdout",
          "text": [
            "            alumno  primer parcial  segundo parcial observaciones        CI\n",
            "0           Zutano             7.0             10.0       ninguna  23000000\n",
            "1          Mengano             8.0              9.0         libre  12389100\n",
            "2           Zutano             7.0             10.0       ninguna  23000000\n",
            "3             Pepe             7.0              4.0       ninguna     99999\n",
            "4  Fulanito, Cosme            10.0             10.0         libre      1001\n",
            "5            Maria            10.0             10.0        oyente  30406011\n"
          ]
        }
      ]
    },
    {
      "cell_type": "markdown",
      "source": [
        "Esto claramente reeplaza los valores faltantes usando un valor prefijado. Podemos también usar medias o medianas:"
      ],
      "metadata": {
        "id": "D-z0S1G-6JFb"
      }
    },
    {
      "cell_type": "code",
      "source": [
        "a = df['primer parcial']\n",
        "print(a)\n",
        "df_3 = df.fillna(a.mean())\n",
        "print(df_3)"
      ],
      "metadata": {
        "colab": {
          "base_uri": "https://localhost:8080/"
        },
        "id": "ul-fHemr6Jhr",
        "outputId": "c8d1cac6-9aee-4c3b-851f-e68b15e87400"
      },
      "execution_count": null,
      "outputs": [
        {
          "output_type": "stream",
          "name": "stdout",
          "text": [
            "0     7.0\n",
            "1     8.0\n",
            "2     7.0\n",
            "3     7.0\n",
            "4     NaN\n",
            "5    10.0\n",
            "Name: primer parcial, dtype: float64\n",
            "            alumno  primer parcial  segundo parcial observaciones        CI\n",
            "0           Zutano             7.0             10.0       ninguna  23000000\n",
            "1          Mengano             8.0              9.0         libre  12389100\n",
            "2           Zutano             7.0             10.0       ninguna  23000000\n",
            "3             Pepe             7.0              4.0       ninguna     99999\n",
            "4  Fulanito, Cosme             7.8             10.0         libre      1001\n",
            "5            Maria            10.0              7.8        oyente  30406011\n"
          ]
        }
      ]
    },
    {
      "cell_type": "markdown",
      "source": [
        "Acá están sucediendo varias cosas. Primero, en a están los valores de la columna 'primer parcial'. Luego, dentro de fillna pongo a.mean() que computa el valor medio de todas las entradas que no son nan de esa columna. Ese valor es 7.8, el cual se completa en todas las entradas que tienen nan.\n",
        "\n",
        "Es lógico preguntarse si esto es lógico: en realidad, nos gustaría reemplazar el nan de la columna 'segundo parcial' por un promedio de los valores de esa columna, no de 'primer parcial'.\n",
        "\n"
      ],
      "metadata": {
        "id": "MTPkAfEj6QCa"
      }
    },
    {
      "cell_type": "code",
      "source": [
        "a = df['primer parcial']\n",
        "b = df['segundo parcial']\n",
        "fill_dict = {'primer parcial':a.mean(), 'segundo parcial':b.mean()}\n",
        "df_4 = df.fillna(fill_dict)\n",
        "print(df_4)"
      ],
      "metadata": {
        "colab": {
          "base_uri": "https://localhost:8080/"
        },
        "id": "Tw9ECQJB6KZx",
        "outputId": "c677f4df-ad29-4f4c-a2ff-df18debbf103"
      },
      "execution_count": 22,
      "outputs": [
        {
          "output_type": "stream",
          "name": "stdout",
          "text": [
            "            alumno  primer parcial  segundo parcial observaciones        CI\n",
            "0           Zutano             7.0             10.0       ninguna  23000000\n",
            "1          Mengano             8.0              9.0         libre  12389100\n",
            "2           Zutano             7.0             10.0       ninguna  23000000\n",
            "3             Pepe             7.0              4.0       ninguna     99999\n",
            "4  Fulanito, Cosme             7.8             10.0         libre      1001\n",
            "5            Maria            10.0              8.6        oyente  30406011\n"
          ]
        }
      ]
    },
    {
      "cell_type": "markdown",
      "source": [
        "Vemos que ahora usa valores diferentes para completar los nan de cada columna (7.8 y 8.6). La forma de hacerlo es pasarle un diccionario donde las llaves indican las columnas y los valores, por lo que debe ser reemplazado el nan.\n",
        "\n",
        "Obviamente el valor medio únicamente tiene sentido para datos numéricos, pero podemos reemplazar los datos de otras formas si los datos son no numéricos (por ejemplo, por la entrada más frecuente).\n",
        "\n",
        "Puede que querramos filtrar los datos mediante algún criterio distinto, por ejemplo, retener únicamente a los alumnos libres, o bien a aquellos cuyo primer parcial fue mayor a 7.\n",
        "\n",
        "Una forma sencilla es iterar el índice, y eliminar las filas que no cumplan con la condición dada.\n",
        "\n"
      ],
      "metadata": {
        "id": "CUkcXmBI6WyD"
      }
    },
    {
      "cell_type": "code",
      "source": [
        "datos = {'alumno': ['Zutano', 'Mengano', 'Zutano','Pepe' ,'Fulanito, Cosme', 'Maria'], 'primer parcial': [7, 8,7,7,np.nan, 10], 'segundo parcial': [10,9,10,4,10,np.nan], 'observaciones':['ninguna','libre','ninguna','ninguna','libre','oyente'], 'CI':[23000000, 12389100,23000000, 99999, 1001,30406011]}\n",
        "df = pd.DataFrame(datos)\n",
        "\n",
        "for x in df.index:\n",
        "  if not df.loc[x, \"observaciones\"] == 'libre':\n",
        "    df.drop(x, inplace = True)\n",
        "print(df)\n",
        "\n",
        "datos = {'alumno': ['Zutano', 'Mengano', 'Zutano','Pepe' ,'Fulanito, Cosme', 'Maria'], 'primer parcial': [7, 8,7,7,np.nan, 10], 'segundo parcial': [10,9,10,4,10,np.nan], 'observaciones':['ninguna','libre','ninguna','ninguna','libre','oyente'], 'CI':[23000000, 12389100,23000000, 99999, 1001,30406011]}\n",
        "df = pd.DataFrame(datos)\n",
        "\n",
        "df_libre = df[df['observaciones']=='libre']\n",
        "print(df_libre)\n",
        "\n",
        "\n",
        "datos = {'alumno': ['Zutano', 'Mengano', 'Zutano','Pepe' ,'Fulanito, Cosme', 'Maria'], 'primer parcial': [7, 8,7,7,np.nan, 10], 'segundo parcial': [10,9,10,4,10,np.nan], 'observaciones':['ninguna','libre','ninguna','ninguna','libre','oyente'], 'CI':[23000000, 12389100,23000000, 99999, 1001,30406011]}\n",
        "df = pd.DataFrame(datos)\n",
        "\n",
        "for x in df.index:\n",
        "  if df.loc[x, \"primer parcial\"] <= 7:\n",
        "    df.drop(x, inplace = True)\n",
        "print(df)"
      ],
      "metadata": {
        "colab": {
          "base_uri": "https://localhost:8080/"
        },
        "id": "fanCf13t6XG9",
        "outputId": "45e12991-d75e-41e5-bde6-218297f1e00f"
      },
      "execution_count": null,
      "outputs": [
        {
          "output_type": "stream",
          "name": "stdout",
          "text": [
            "            alumno  primer parcial  segundo parcial observaciones        CI\n",
            "1          Mengano             8.0              9.0         libre  12389100\n",
            "4  Fulanito, Cosme             NaN             10.0         libre      1001\n",
            "            alumno  primer parcial  segundo parcial observaciones        CI\n",
            "1          Mengano             8.0              9.0         libre  12389100\n",
            "4  Fulanito, Cosme             NaN             10.0         libre      1001\n",
            "            alumno  primer parcial  segundo parcial observaciones        CI\n",
            "1          Mengano             8.0              9.0         libre  12389100\n",
            "4  Fulanito, Cosme             NaN             10.0         libre      1001\n",
            "5            Maria            10.0              NaN        oyente  30406011\n"
          ]
        }
      ]
    },
    {
      "cell_type": "markdown",
      "source": [
        "Por último, puede que querramos remover duplicados. La forma más sencilla de hacerlo es con el método drop_duplicates()"
      ],
      "metadata": {
        "id": "ReXP_h906tMj"
      }
    },
    {
      "cell_type": "code",
      "source": [
        "datos = {'alumno': ['Zutano', 'Mengano', 'Zutano','Pepe' ,'Fulanito, Cosme', 'Maria'], 'primer parcial': [7, 8,7,7,np.nan, 10], 'segundo parcial': [10,9,10,4,10,np.nan], 'observaciones':['ninguna','libre','ninguna','ninguna','libre','oyente'], 'CI':[23000000, 12389100,23000000, 99999, 1001,30406011]}\n",
        "df = pd.DataFrame(datos)\n",
        "print(df)\n",
        "df_2 = df.drop_duplicates()\n",
        "print(df_2)"
      ],
      "metadata": {
        "colab": {
          "base_uri": "https://localhost:8080/"
        },
        "id": "MubEfa936tgD",
        "outputId": "d0131c7c-f26c-41ca-f77e-caa959826611"
      },
      "execution_count": null,
      "outputs": [
        {
          "output_type": "stream",
          "name": "stdout",
          "text": [
            "            alumno  primer parcial  segundo parcial observaciones        CI\n",
            "0           Zutano             7.0             10.0       ninguna  23000000\n",
            "1          Mengano             8.0              9.0         libre  12389100\n",
            "2           Zutano             7.0             10.0       ninguna  23000000\n",
            "3             Pepe             7.0              4.0       ninguna     99999\n",
            "4  Fulanito, Cosme             NaN             10.0         libre      1001\n",
            "5            Maria            10.0              NaN        oyente  30406011\n",
            "            alumno  primer parcial  segundo parcial observaciones        CI\n",
            "0           Zutano             7.0             10.0       ninguna  23000000\n",
            "1          Mengano             8.0              9.0         libre  12389100\n",
            "3             Pepe             7.0              4.0       ninguna     99999\n",
            "4  Fulanito, Cosme             NaN             10.0         libre      1001\n",
            "5            Maria            10.0              NaN        oyente  30406011\n"
          ]
        }
      ]
    },
    {
      "cell_type": "markdown",
      "source": [
        "Algunas de los métodos que podemos aplicar a los dataframe son útiles para tener una idea de los valores de una columna sin tener que hacer demasiado trabajo. Esto es lo que podemos hacer con value_counts(), que nos devuelve todos los valores que toman las entradas de la columna, y la cantidad de veces que ocurren."
      ],
      "metadata": {
        "id": "OknZPuo56vpb"
      }
    },
    {
      "cell_type": "code",
      "source": [
        "df['observaciones'].value_counts()"
      ],
      "metadata": {
        "colab": {
          "base_uri": "https://localhost:8080/"
        },
        "id": "q-WIlJ-162kM",
        "outputId": "4bc2a65b-71ea-4d7b-e6d9-d628fa3cedd8"
      },
      "execution_count": null,
      "outputs": [
        {
          "output_type": "execute_result",
          "data": {
            "text/plain": [
              "ninguna    3\n",
              "libre      2\n",
              "oyente     1\n",
              "Name: observaciones, dtype: int64"
            ]
          },
          "metadata": {},
          "execution_count": 66
        }
      ]
    },
    {
      "cell_type": "markdown",
      "source": [],
      "metadata": {
        "id": "JNdk7H7T634K"
      }
    },
    {
      "cell_type": "markdown",
      "source": [
        "Lo último que vamos a ver en este Notebook es cómo combinar dos o más dataframes en uno solo.\n",
        "\n",
        "La forma más sencilla es hacer append de un dataframe a otro, ambos con las mismas columnas."
      ],
      "metadata": {
        "id": "nnOwXvyf63-j"
      }
    },
    {
      "cell_type": "code",
      "source": [
        "datos_1 = {'alumno': ['Zutano', 'Mengano', 'Zutano','Pepe' ,'Fulanito, Cosme', 'Maria'], 'primer parcial': [7, 8,7,7,np.nan, 10], 'segundo parcial': [10,9,10,4,10,np.nan], 'observaciones':['ninguna','libre','ninguna','ninguna','libre','oyente'], 'CI':[23000000, 12389100,23000000, 99999, 1001,30406011]}\n",
        "df_1 = pd.DataFrame(datos_1)\n",
        "\n",
        "datos_2 = {'alumno': ['Diego', 'Flor', 'José'], 'primer parcial': [10,10,8], 'segundo parcial': [8,8,8], 'observaciones':['ninguna','libre','libre'], 'CI':[23299, 1043101,4406533]}\n",
        "df_2 = pd.DataFrame(datos_2)\n",
        "\n",
        "df_3 = pd.concat((df_1, df_2))\n",
        "\n",
        "print(df_3)\n",
        "\n",
        "df_3 = pd.concat((df_1, df_2), ignore_index=True)\n",
        "\n",
        "print(df_3)\n",
        "df_4 = df_3.reindex(index=list(range(1,len(df_3))))\n",
        "\n",
        "df_4"
      ],
      "metadata": {
        "colab": {
          "base_uri": "https://localhost:8080/",
          "height": 647
        },
        "id": "L7y2hmSN66b7",
        "outputId": "8635c3af-9462-496c-ca4d-ad3c1a142bbd"
      },
      "execution_count": null,
      "outputs": [
        {
          "output_type": "stream",
          "name": "stdout",
          "text": [
            "            alumno  primer parcial  segundo parcial observaciones        CI\n",
            "0           Zutano             7.0             10.0       ninguna  23000000\n",
            "1          Mengano             8.0              9.0         libre  12389100\n",
            "2           Zutano             7.0             10.0       ninguna  23000000\n",
            "3             Pepe             7.0              4.0       ninguna     99999\n",
            "4  Fulanito, Cosme             NaN             10.0         libre      1001\n",
            "5            Maria            10.0              NaN        oyente  30406011\n",
            "0            Diego            10.0              8.0       ninguna     23299\n",
            "1             Flor            10.0              8.0         libre   1043101\n",
            "2             José             8.0              8.0         libre   4406533\n",
            "            alumno  primer parcial  segundo parcial observaciones        CI\n",
            "0           Zutano             7.0             10.0       ninguna  23000000\n",
            "1          Mengano             8.0              9.0         libre  12389100\n",
            "2           Zutano             7.0             10.0       ninguna  23000000\n",
            "3             Pepe             7.0              4.0       ninguna     99999\n",
            "4  Fulanito, Cosme             NaN             10.0         libre      1001\n",
            "5            Maria            10.0              NaN        oyente  30406011\n",
            "6            Diego            10.0              8.0       ninguna     23299\n",
            "7             Flor            10.0              8.0         libre   1043101\n",
            "8             José             8.0              8.0         libre   4406533\n"
          ]
        },
        {
          "output_type": "execute_result",
          "data": {
            "text/plain": [
              "            alumno  primer parcial  segundo parcial observaciones        CI\n",
              "1          Mengano             8.0              9.0         libre  12389100\n",
              "2           Zutano             7.0             10.0       ninguna  23000000\n",
              "3             Pepe             7.0              4.0       ninguna     99999\n",
              "4  Fulanito, Cosme             NaN             10.0         libre      1001\n",
              "5            Maria            10.0              NaN        oyente  30406011\n",
              "6            Diego            10.0              8.0       ninguna     23299\n",
              "7             Flor            10.0              8.0         libre   1043101\n",
              "8             José             8.0              8.0         libre   4406533"
            ],
            "text/html": [
              "\n",
              "  <div id=\"df-df3bcb21-e289-476c-a5f1-51963945c4aa\">\n",
              "    <div class=\"colab-df-container\">\n",
              "      <div>\n",
              "<style scoped>\n",
              "    .dataframe tbody tr th:only-of-type {\n",
              "        vertical-align: middle;\n",
              "    }\n",
              "\n",
              "    .dataframe tbody tr th {\n",
              "        vertical-align: top;\n",
              "    }\n",
              "\n",
              "    .dataframe thead th {\n",
              "        text-align: right;\n",
              "    }\n",
              "</style>\n",
              "<table border=\"1\" class=\"dataframe\">\n",
              "  <thead>\n",
              "    <tr style=\"text-align: right;\">\n",
              "      <th></th>\n",
              "      <th>alumno</th>\n",
              "      <th>primer parcial</th>\n",
              "      <th>segundo parcial</th>\n",
              "      <th>observaciones</th>\n",
              "      <th>CI</th>\n",
              "    </tr>\n",
              "  </thead>\n",
              "  <tbody>\n",
              "    <tr>\n",
              "      <th>1</th>\n",
              "      <td>Mengano</td>\n",
              "      <td>8.0</td>\n",
              "      <td>9.0</td>\n",
              "      <td>libre</td>\n",
              "      <td>12389100</td>\n",
              "    </tr>\n",
              "    <tr>\n",
              "      <th>2</th>\n",
              "      <td>Zutano</td>\n",
              "      <td>7.0</td>\n",
              "      <td>10.0</td>\n",
              "      <td>ninguna</td>\n",
              "      <td>23000000</td>\n",
              "    </tr>\n",
              "    <tr>\n",
              "      <th>3</th>\n",
              "      <td>Pepe</td>\n",
              "      <td>7.0</td>\n",
              "      <td>4.0</td>\n",
              "      <td>ninguna</td>\n",
              "      <td>99999</td>\n",
              "    </tr>\n",
              "    <tr>\n",
              "      <th>4</th>\n",
              "      <td>Fulanito, Cosme</td>\n",
              "      <td>NaN</td>\n",
              "      <td>10.0</td>\n",
              "      <td>libre</td>\n",
              "      <td>1001</td>\n",
              "    </tr>\n",
              "    <tr>\n",
              "      <th>5</th>\n",
              "      <td>Maria</td>\n",
              "      <td>10.0</td>\n",
              "      <td>NaN</td>\n",
              "      <td>oyente</td>\n",
              "      <td>30406011</td>\n",
              "    </tr>\n",
              "    <tr>\n",
              "      <th>6</th>\n",
              "      <td>Diego</td>\n",
              "      <td>10.0</td>\n",
              "      <td>8.0</td>\n",
              "      <td>ninguna</td>\n",
              "      <td>23299</td>\n",
              "    </tr>\n",
              "    <tr>\n",
              "      <th>7</th>\n",
              "      <td>Flor</td>\n",
              "      <td>10.0</td>\n",
              "      <td>8.0</td>\n",
              "      <td>libre</td>\n",
              "      <td>1043101</td>\n",
              "    </tr>\n",
              "    <tr>\n",
              "      <th>8</th>\n",
              "      <td>José</td>\n",
              "      <td>8.0</td>\n",
              "      <td>8.0</td>\n",
              "      <td>libre</td>\n",
              "      <td>4406533</td>\n",
              "    </tr>\n",
              "  </tbody>\n",
              "</table>\n",
              "</div>\n",
              "      <button class=\"colab-df-convert\" onclick=\"convertToInteractive('df-df3bcb21-e289-476c-a5f1-51963945c4aa')\"\n",
              "              title=\"Convert this dataframe to an interactive table.\"\n",
              "              style=\"display:none;\">\n",
              "        \n",
              "  <svg xmlns=\"http://www.w3.org/2000/svg\" height=\"24px\"viewBox=\"0 0 24 24\"\n",
              "       width=\"24px\">\n",
              "    <path d=\"M0 0h24v24H0V0z\" fill=\"none\"/>\n",
              "    <path d=\"M18.56 5.44l.94 2.06.94-2.06 2.06-.94-2.06-.94-.94-2.06-.94 2.06-2.06.94zm-11 1L8.5 8.5l.94-2.06 2.06-.94-2.06-.94L8.5 2.5l-.94 2.06-2.06.94zm10 10l.94 2.06.94-2.06 2.06-.94-2.06-.94-.94-2.06-.94 2.06-2.06.94z\"/><path d=\"M17.41 7.96l-1.37-1.37c-.4-.4-.92-.59-1.43-.59-.52 0-1.04.2-1.43.59L10.3 9.45l-7.72 7.72c-.78.78-.78 2.05 0 2.83L4 21.41c.39.39.9.59 1.41.59.51 0 1.02-.2 1.41-.59l7.78-7.78 2.81-2.81c.8-.78.8-2.07 0-2.86zM5.41 20L4 18.59l7.72-7.72 1.47 1.35L5.41 20z\"/>\n",
              "  </svg>\n",
              "      </button>\n",
              "      \n",
              "  <style>\n",
              "    .colab-df-container {\n",
              "      display:flex;\n",
              "      flex-wrap:wrap;\n",
              "      gap: 12px;\n",
              "    }\n",
              "\n",
              "    .colab-df-convert {\n",
              "      background-color: #E8F0FE;\n",
              "      border: none;\n",
              "      border-radius: 50%;\n",
              "      cursor: pointer;\n",
              "      display: none;\n",
              "      fill: #1967D2;\n",
              "      height: 32px;\n",
              "      padding: 0 0 0 0;\n",
              "      width: 32px;\n",
              "    }\n",
              "\n",
              "    .colab-df-convert:hover {\n",
              "      background-color: #E2EBFA;\n",
              "      box-shadow: 0px 1px 2px rgba(60, 64, 67, 0.3), 0px 1px 3px 1px rgba(60, 64, 67, 0.15);\n",
              "      fill: #174EA6;\n",
              "    }\n",
              "\n",
              "    [theme=dark] .colab-df-convert {\n",
              "      background-color: #3B4455;\n",
              "      fill: #D2E3FC;\n",
              "    }\n",
              "\n",
              "    [theme=dark] .colab-df-convert:hover {\n",
              "      background-color: #434B5C;\n",
              "      box-shadow: 0px 1px 3px 1px rgba(0, 0, 0, 0.15);\n",
              "      filter: drop-shadow(0px 1px 2px rgba(0, 0, 0, 0.3));\n",
              "      fill: #FFFFFF;\n",
              "    }\n",
              "  </style>\n",
              "\n",
              "      <script>\n",
              "        const buttonEl =\n",
              "          document.querySelector('#df-df3bcb21-e289-476c-a5f1-51963945c4aa button.colab-df-convert');\n",
              "        buttonEl.style.display =\n",
              "          google.colab.kernel.accessAllowed ? 'block' : 'none';\n",
              "\n",
              "        async function convertToInteractive(key) {\n",
              "          const element = document.querySelector('#df-df3bcb21-e289-476c-a5f1-51963945c4aa');\n",
              "          const dataTable =\n",
              "            await google.colab.kernel.invokeFunction('convertToInteractive',\n",
              "                                                     [key], {});\n",
              "          if (!dataTable) return;\n",
              "\n",
              "          const docLinkHtml = 'Like what you see? Visit the ' +\n",
              "            '<a target=\"_blank\" href=https://colab.research.google.com/notebooks/data_table.ipynb>data table notebook</a>'\n",
              "            + ' to learn more about interactive tables.';\n",
              "          element.innerHTML = '';\n",
              "          dataTable['output_type'] = 'display_data';\n",
              "          await google.colab.output.renderOutput(dataTable, element);\n",
              "          const docLink = document.createElement('div');\n",
              "          docLink.innerHTML = docLinkHtml;\n",
              "          element.appendChild(docLink);\n",
              "        }\n",
              "      </script>\n",
              "    </div>\n",
              "  </div>\n",
              "  "
            ]
          },
          "metadata": {},
          "execution_count": 67
        }
      ]
    },
    {
      "cell_type": "markdown",
      "source": [
        "Vemos cómo en este caso el índice se reinicia empezando desde 0. Por supuesto, como vimos antes, siempre podemos reindexar usando otra columna que sirva a ese propósito (el CI sería la mejor opción).\n",
        "\n",
        "El proceso de unir o mergear dos dataframes con distintas columnas es familiar para aquellos con alguna experiencia en SQL. Supongamos que tenemos este dataframe reindexado por el CI:"
      ],
      "metadata": {
        "id": "SNsGqrhR8S9r"
      }
    },
    {
      "cell_type": "code",
      "source": [
        "df_CI = df_3.set_index('CI')\n",
        "print(df_CI)"
      ],
      "metadata": {
        "colab": {
          "base_uri": "https://localhost:8080/"
        },
        "id": "bU9NflAG8TXz",
        "outputId": "e997f87c-718c-4894-824e-0b93cd9ce5e1"
      },
      "execution_count": null,
      "outputs": [
        {
          "output_type": "stream",
          "name": "stdout",
          "text": [
            "                   alumno  primer parcial  segundo parcial observaciones\n",
            "CI                                                                      \n",
            "23000000           Zutano             7.0             10.0       ninguna\n",
            "12389100          Mengano             8.0              9.0         libre\n",
            "23000000           Zutano             7.0             10.0       ninguna\n",
            "99999                Pepe             7.0              4.0       ninguna\n",
            "1001      Fulanito, Cosme             NaN             10.0         libre\n",
            "30406011            Maria            10.0              NaN        oyente\n",
            "23299               Diego            10.0              8.0       ninguna\n",
            "1043101              Flor            10.0              8.0         libre\n",
            "4406533              José             8.0              8.0         libre\n"
          ]
        }
      ]
    },
    {
      "cell_type": "code",
      "source": [],
      "metadata": {
        "id": "XayxwOUk953T"
      },
      "execution_count": null,
      "outputs": []
    }
  ]
}