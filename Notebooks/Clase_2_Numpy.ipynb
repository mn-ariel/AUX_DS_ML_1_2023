{
  "nbformat": 4,
  "nbformat_minor": 0,
  "metadata": {
    "colab": {
      "provenance": []
    },
    "kernelspec": {
      "name": "python3",
      "display_name": "Python 3"
    },
    "language_info": {
      "name": "python"
    }
  },
  "cells": [
    {
      "cell_type": "markdown",
      "source": [
        "#**Numpy**\n",
        "NumPy es una librería de Python especializada en el cálculo numérico y el análisis de datos, especialmente para un gran volumen de datos.\n",
        "\n",
        "Incorpora una nueva clase de objetos llamados arrays que permite representar colecciones de datos de un mismo tipo en varias dimensiones, y funciones muy eficientes para su manipulación.\n",
        "\n",
        "La ventaja de Numpy frente a las listas predefinidas en Python es que el procesamiento de los arrays se realiza mucho más rápido (hasta 50 veces más) que las listas, lo cual la hace ideal para el procesamiento de vectores y matrices de grandes dimensiones."
      ],
      "metadata": {
        "id": "gTxMusIyL4BS"
      }
    },
    {
      "cell_type": "markdown",
      "source": [
        "![image.png](data:image/png;base64,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)"
      ],
      "metadata": {
        "id": "COLk-XMRL-Jy"
      }
    },
    {
      "cell_type": "markdown",
      "source": [
        "##**Breve repaso**\n",
        "### **Números y strings**\n",
        "\n",
        "En primer lugar, Python puede manejar enteros en distintas bases, números con coma flotante y números complejos."
      ],
      "metadata": {
        "id": "H-vH93oBMKv0"
      }
    },
    {
      "cell_type": "code",
      "execution_count": 1,
      "metadata": {
        "id": "8ekCJpfyLGVt"
      },
      "outputs": [],
      "source": [
        "a = 8      \n",
        "b = 8.0     \n",
        "c = 1.4e80 \n",
        "d = 0b100   \n",
        "e = 43.2 + 3j"
      ]
    },
    {
      "cell_type": "markdown",
      "source": [
        "Podemos verificar el tipo de datos usando type()"
      ],
      "metadata": {
        "id": "cuqAiX_2MfZr"
      }
    },
    {
      "cell_type": "code",
      "source": [
        "print(type(a))\n",
        "print(type(b))\n",
        "print(type(c))\n",
        "print(type(d))\n",
        "print(type(e))"
      ],
      "metadata": {
        "colab": {
          "base_uri": "https://localhost:8080/"
        },
        "id": "9KZ_Q2fxMhpS",
        "outputId": "9e9abd58-d7b7-422a-eaad-21dcc4b80aba"
      },
      "execution_count": 2,
      "outputs": [
        {
          "output_type": "stream",
          "name": "stdout",
          "text": [
            "<class 'int'>\n",
            "<class 'float'>\n",
            "<class 'float'>\n",
            "<class 'int'>\n",
            "<class 'complex'>\n"
          ]
        }
      ]
    },
    {
      "cell_type": "markdown",
      "source": [
        "Otro tipo de dato común son los strings (str)."
      ],
      "metadata": {
        "id": "hsxzHDQdMyXq"
      }
    },
    {
      "cell_type": "code",
      "source": [
        "a = \"hola mundo\"\n",
        "b = 'mucho gusto'\n",
        "print(type(a))\n",
        "print(type(b))\n",
        "print(a)\n",
        "print(b)"
      ],
      "metadata": {
        "colab": {
          "base_uri": "https://localhost:8080/"
        },
        "id": "veRVCIKaMihT",
        "outputId": "d328b90c-f38c-4b4d-d34a-8114e0760edf"
      },
      "execution_count": 3,
      "outputs": [
        {
          "output_type": "stream",
          "name": "stdout",
          "text": [
            "<class 'str'>\n",
            "<class 'str'>\n",
            "hola mundo\n",
            "mucho gusto\n"
          ]
        }
      ]
    },
    {
      "cell_type": "markdown",
      "source": [
        "Los strings se pueden delimitar con comillas simples o dobles. Esto es útil si quiero incluir comillas simples en el string (encierro con dobles) o si quiero incluir comillas dobles (encierro con simples)"
      ],
      "metadata": {
        "id": "wxkz1okYM48K"
      }
    },
    {
      "cell_type": "code",
      "source": [
        "a = \"Una comilla simple ' en mi string\"\n",
        "b = 'Una comilla doble \" en mi string'\n",
        "print(a)\n",
        "print(b)\n"
      ],
      "metadata": {
        "colab": {
          "base_uri": "https://localhost:8080/"
        },
        "id": "JpWiSfXPM1Ji",
        "outputId": "c386ea8d-86c0-4d65-a904-6c3064e1331d"
      },
      "execution_count": 4,
      "outputs": [
        {
          "output_type": "stream",
          "name": "stdout",
          "text": [
            "Una comilla simple ' en mi string\n",
            "Una comilla doble \" en mi string\n"
          ]
        }
      ]
    },
    {
      "cell_type": "markdown",
      "source": [
        "Por último, hay un tipo de datos que se utiliza para codificar variables booleanas y tiene dos valores posibles True (verdadero) y False (falso). Podemos operar con estas variables usando operados booleanos como and y or"
      ],
      "metadata": {
        "id": "ofObU2vjM_Fq"
      }
    },
    {
      "cell_type": "code",
      "source": [
        "print(True or False)\n",
        "print(True and False)"
      ],
      "metadata": {
        "colab": {
          "base_uri": "https://localhost:8080/"
        },
        "id": "hhJUrawsM6kp",
        "outputId": "c16e1554-df80-4063-b2f6-5e203455e356"
      },
      "execution_count": 6,
      "outputs": [
        {
          "output_type": "stream",
          "name": "stdout",
          "text": [
            "True\n",
            "False\n"
          ]
        }
      ]
    },
    {
      "cell_type": "markdown",
      "source": [
        "El resultado de evaluar una proposición es una variable booleana\n"
      ],
      "metadata": {
        "id": "8wE6FGCzNBK7"
      }
    },
    {
      "cell_type": "code",
      "source": [
        "print(3==3)\n",
        "print(3>2 or 2>3)\n",
        "print(2!=0 and 5<0)\n"
      ],
      "metadata": {
        "colab": {
          "base_uri": "https://localhost:8080/"
        },
        "id": "vCPEbDsqNCOC",
        "outputId": "e6085880-f9d6-4b1c-b97b-b7c82c0ebc5e"
      },
      "execution_count": 7,
      "outputs": [
        {
          "output_type": "stream",
          "name": "stdout",
          "text": [
            "True\n",
            "True\n",
            "False\n"
          ]
        }
      ]
    },
    {
      "cell_type": "markdown",
      "source": [
        "### **Listas**\n",
        "\n",
        "Las listas son una colección ordenada de elementos de distinto tipo, indexada desde 0 hasta n-1, donde n es la cantidad de elementos de la lista. La cantidad de elementos de la lista puede obtenerse usando la función len()"
      ],
      "metadata": {
        "id": "QERvRQ0xNP1j"
      }
    },
    {
      "cell_type": "code",
      "source": [
        "a = [1, 1.2, [3], True, 'hola', 3+3j]\n",
        "print(len(a))\n",
        "print(a[0])\n",
        "print(a[len(a)-1])"
      ],
      "metadata": {
        "colab": {
          "base_uri": "https://localhost:8080/"
        },
        "id": "45dSJUQANWC1",
        "outputId": "fca8ec08-d1b8-42d0-967c-51738e1839dd"
      },
      "execution_count": 8,
      "outputs": [
        {
          "output_type": "stream",
          "name": "stdout",
          "text": [
            "6\n",
            "1\n",
            "(3+3j)\n"
          ]
        }
      ]
    },
    {
      "cell_type": "markdown",
      "source": [
        "Notamos que las listas también pueden tener a otras listas como elementos (es el caso del elemento en la posición 2 de la lista de arriba).\n",
        "\n",
        "Es posible seleccionar slices de listas usando una notación del estilo i:j, lo cual da una lista con los elementos desde la posición i a la j-1 (empezando desde 0).\n"
      ],
      "metadata": {
        "id": "-ri8_dv_NZVq"
      }
    },
    {
      "cell_type": "code",
      "source": [
        "print(a[2:5])"
      ],
      "metadata": {
        "colab": {
          "base_uri": "https://localhost:8080/"
        },
        "id": "797OHH6_Naja",
        "outputId": "6570a099-600e-47fb-9f3c-4038e2cb562c"
      },
      "execution_count": null,
      "outputs": [
        {
          "output_type": "stream",
          "name": "stdout",
          "text": [
            "[[3], True, 'hola']\n"
          ]
        }
      ]
    },
    {
      "cell_type": "markdown",
      "source": [
        "Hay muchas operaciones que podemos hacer con listas, como por ejemplo concatenarlas con el operador suma. Además, podemos trabajar con strings como si fuesen listas."
      ],
      "metadata": {
        "id": "xd9lTcZiNkhz"
      }
    },
    {
      "cell_type": "code",
      "source": [
        "a = [1,2,3]\n",
        "b = ['a', 'b', 'c']\n",
        "print(a+b)\n",
        "a = 'supercalifragilistico'\n",
        "print(a[4:10])\n",
        "print(a+ ' abracadabra')"
      ],
      "metadata": {
        "colab": {
          "base_uri": "https://localhost:8080/"
        },
        "id": "5jy7vJd0Nlyq",
        "outputId": "bd783d9a-b4c5-4143-a292-9c7599a8b78c"
      },
      "execution_count": null,
      "outputs": [
        {
          "output_type": "stream",
          "name": "stdout",
          "text": [
            "[1, 2, 3, 'a', 'b', 'c']\n",
            "rcalif\n",
            "supercalifragilistico abracadabra\n"
          ]
        }
      ]
    },
    {
      "cell_type": "markdown",
      "source": [
        "Una lista de Python es (como todo) un objeto y posee métodos. \n",
        "Los métodos son funciones específicas que solo se pueden aplicar a ese objeto. \n",
        "Tres ejemplos son revertir la lista con lista.reverse(), agregar un elemento o una lista al final con lista.append(), y remover un elemento de una posición determinada con lista.pop().\n",
        "\n",
        "Es importante notar que aplicar los métodos no devuelven la lista modificada: únicamente la modifican en memoria, sin devolver nada. Por ejemplo:"
      ],
      "metadata": {
        "id": "iyROxCLLNmZD"
      }
    },
    {
      "cell_type": "code",
      "source": [
        "a = [1, 1.2, [3], True, 'hola', 3+3j]\n",
        "a.reverse()\n",
        "print(a)"
      ],
      "metadata": {
        "colab": {
          "base_uri": "https://localhost:8080/"
        },
        "id": "UFA2QIkRNpxz",
        "outputId": "f657a675-e4f1-4944-f38e-c403463ba2fc"
      },
      "execution_count": null,
      "outputs": [
        {
          "output_type": "stream",
          "name": "stdout",
          "text": [
            "[(3+3j), 'hola', True, [3], 1.2, 1]\n"
          ]
        }
      ]
    },
    {
      "cell_type": "markdown",
      "source": [
        "### **Diccionarios**\n",
        "\n",
        "El último tipo de dato natural a Python que vamos a repasar son los diccionarios.\n",
        "\n",
        "Un diccionario consta de llaves, valores y un mapeo entre ambos que le asigna un valor a cada llave:"
      ],
      "metadata": {
        "id": "haeWKpRgNzU0"
      }
    },
    {
      "cell_type": "markdown",
      "source": [
        "![dict.png](data:image/png;base64,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)\n",
        "\n",
        "\n"
      ],
      "metadata": {
        "id": "mFFBUXsUN2y6"
      }
    },
    {
      "cell_type": "code",
      "source": [
        "a = {'llave1':'hola', 'llave2':[True,False,3.5], 39:'hola mundo', 49.324:12}\n",
        "print(a['llave1'])\n",
        "print(a['llave2'])\n",
        "print(a[39])\n",
        "print(a[49.324])"
      ],
      "metadata": {
        "colab": {
          "base_uri": "https://localhost:8080/"
        },
        "id": "4ZM4_xClN_YF",
        "outputId": "51bdfe76-9516-4178-dfd2-d017ae4df0ff"
      },
      "execution_count": 9,
      "outputs": [
        {
          "output_type": "stream",
          "name": "stdout",
          "text": [
            "hola\n",
            "[True, False, 3.5]\n",
            "hola mundo\n",
            "12\n"
          ]
        }
      ]
    },
    {
      "cell_type": "markdown",
      "source": [
        "Vemos que podemos usar el tipo de datos que queramos como llaves (aunque no listas) El problema surge cuando hay más de una llave con el mismo valor, porque en ese caso no sabemos a que valor hacemos referencia:"
      ],
      "metadata": {
        "id": "z3RnGEjCOBQj"
      }
    },
    {
      "cell_type": "code",
      "source": [
        "a = {'llave1':'hola', 'llave1':[True,False,3.5], 39:'hola mundo', 49.324:12}\n",
        "print(a['llave1'])"
      ],
      "metadata": {
        "colab": {
          "base_uri": "https://localhost:8080/"
        },
        "id": "3Log9cJdN_v7",
        "outputId": "2f12a57b-561a-42cf-c016-954dd8639b06"
      },
      "execution_count": null,
      "outputs": [
        {
          "output_type": "stream",
          "name": "stdout",
          "text": [
            "[True, False, 3.5]\n"
          ]
        }
      ]
    },
    {
      "cell_type": "markdown",
      "source": [
        "Vemos que obtenemos el último de los elementos con esa llave.\n",
        "Si queremos saber cuales son todas las llaves de un diccionario podemos usar el método dict.keys()"
      ],
      "metadata": {
        "id": "aaDkzPGHOCuL"
      }
    },
    {
      "cell_type": "code",
      "source": [
        "llaves = a.keys()\n",
        "print(llaves)"
      ],
      "metadata": {
        "colab": {
          "base_uri": "https://localhost:8080/"
        },
        "id": "GHeO4Nn4OSxa",
        "outputId": "46b0f4bd-99cc-4af7-f262-2dfd37c9c48c"
      },
      "execution_count": null,
      "outputs": [
        {
          "output_type": "stream",
          "name": "stdout",
          "text": [
            "dict_keys(['llave1', 39, 49.324])\n"
          ]
        }
      ]
    },
    {
      "cell_type": "markdown",
      "source": [
        "## **Tipos de datos de Numpy**\n"
      ],
      "metadata": {
        "id": "C-isx94rOJ1L"
      }
    },
    {
      "cell_type": "markdown",
      "source": [
        "La forma en que pensamos en listas es como secuencias de elementos, no como en vectores o matrices. Podemos aproximarnos a la idea de una matriz numérica utilizando listas dentro de listas, como muestra el siguiente ejemplo:"
      ],
      "metadata": {
        "id": "791CCi3nOlLC"
      }
    },
    {
      "cell_type": "code",
      "source": [
        "a = [[2,5,1],[3,10,12],[2,0,0]]\n",
        "print(a[0][0])\n",
        "print(a[1][2])"
      ],
      "metadata": {
        "colab": {
          "base_uri": "https://localhost:8080/"
        },
        "id": "FpvxTHbpOqeK",
        "outputId": "f05435a8-e1af-4040-b22e-9071a0cb02d6"
      },
      "execution_count": 10,
      "outputs": [
        {
          "output_type": "stream",
          "name": "stdout",
          "text": [
            "2\n",
            "12\n"
          ]
        }
      ]
    },
    {
      "cell_type": "markdown",
      "source": [
        "Es decir, esta lista se llama con dos índices i,j de forma tal que representa a la siguiente matriz:\n",
        "\n",
        "![matrix.png](data:image/png;base64,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)\n",
        "\n",
        "El problema con esto es que las funciones y métodos de Python no se comportan como esperaríamos si estas fuesen matrices. Por ejemplo, la operación suma no devuelve la suma elemento a elemento, sino la concatenación de la listas:"
      ],
      "metadata": {
        "id": "_evo89IIOsaj"
      }
    },
    {
      "cell_type": "code",
      "source": [
        "a = [[2,5,1],[3,10,12],[2,0,0]]\n",
        "b = [[2,5,1],[3,10,12],[2,0,0]]\n",
        "print(a+b)"
      ],
      "metadata": {
        "colab": {
          "base_uri": "https://localhost:8080/"
        },
        "id": "YkPehOssOvB7",
        "outputId": "0331792a-02b5-4aff-ed59-e853374906b0"
      },
      "execution_count": null,
      "outputs": [
        {
          "output_type": "stream",
          "name": "stdout",
          "text": [
            "[[2, 5, 1], [3, 10, 12], [2, 0, 0], [2, 5, 1], [3, 10, 12], [2, 0, 0]]\n"
          ]
        }
      ]
    },
    {
      "cell_type": "markdown",
      "source": [
        "Pero no todo está perdido. La librería de Python llamada Numpy se inventó precisamente para poder transformar listas en vectores y listas de listas en matrices, de forma tal que cumplan con nuestras intuiciones de álgebra lineal."
      ],
      "metadata": {
        "id": "YsSzOgp3Owi7"
      }
    },
    {
      "cell_type": "code",
      "source": [
        "# Importar NumPy a nuestro notebook\n",
        "import numpy as np"
      ],
      "metadata": {
        "id": "Nsqef7S2L6mi"
      },
      "execution_count": 11,
      "outputs": []
    },
    {
      "cell_type": "code",
      "source": [
        "a = np.array([[2,5,1],[3,10,12],[2,0,0]])\n",
        "b = np.array([[2,5,1],[3,10,12],[2,0,0]])\n",
        "print(a+b)\n",
        "print(type(a))"
      ],
      "metadata": {
        "colab": {
          "base_uri": "https://localhost:8080/"
        },
        "id": "mcdfV2zyO9FC",
        "outputId": "514ed833-1606-4866-e6df-588519c80bfc"
      },
      "execution_count": 15,
      "outputs": [
        {
          "output_type": "stream",
          "name": "stdout",
          "text": [
            "[[ 4 10  2]\n",
            " [ 6 20 24]\n",
            " [ 4  0  0]]\n",
            "<class 'numpy.ndarray'>\n"
          ]
        }
      ]
    },
    {
      "cell_type": "markdown",
      "source": [
        "Es importante notar que Numpy trabaja con datos numéricos y que por lo tanto podemos encontrar un error si intentamos operar aritméticamente con cualquier array."
      ],
      "metadata": {
        "id": "1Lod9rC0PAec"
      }
    },
    {
      "cell_type": "code",
      "source": [
        "a = np.array(['hola', 'mundo'])\n",
        "b = np.array(['como', 'va'])\n",
        "print(a+b)"
      ],
      "metadata": {
        "colab": {
          "base_uri": "https://localhost:8080/",
          "height": 200
        },
        "id": "n-Z9oKCDPA5r",
        "outputId": "4c4c5b19-abe6-4117-87b8-f173988fe146"
      },
      "execution_count": 13,
      "outputs": [
        {
          "output_type": "error",
          "ename": "UFuncTypeError",
          "evalue": "ignored",
          "traceback": [
            "\u001b[0;31m---------------------------------------------------------------------------\u001b[0m",
            "\u001b[0;31mUFuncTypeError\u001b[0m                            Traceback (most recent call last)",
            "\u001b[0;32m<ipython-input-13-a0043e5c09ae>\u001b[0m in \u001b[0;36m<module>\u001b[0;34m\u001b[0m\n\u001b[1;32m      1\u001b[0m \u001b[0ma\u001b[0m \u001b[0;34m=\u001b[0m \u001b[0mnp\u001b[0m\u001b[0;34m.\u001b[0m\u001b[0marray\u001b[0m\u001b[0;34m(\u001b[0m\u001b[0;34m[\u001b[0m\u001b[0;34m'hola'\u001b[0m\u001b[0;34m,\u001b[0m \u001b[0;34m'mundo'\u001b[0m\u001b[0;34m]\u001b[0m\u001b[0;34m)\u001b[0m\u001b[0;34m\u001b[0m\u001b[0;34m\u001b[0m\u001b[0m\n\u001b[1;32m      2\u001b[0m \u001b[0mb\u001b[0m \u001b[0;34m=\u001b[0m \u001b[0mnp\u001b[0m\u001b[0;34m.\u001b[0m\u001b[0marray\u001b[0m\u001b[0;34m(\u001b[0m\u001b[0;34m[\u001b[0m\u001b[0;34m'como'\u001b[0m\u001b[0;34m,\u001b[0m \u001b[0;34m'va'\u001b[0m\u001b[0;34m]\u001b[0m\u001b[0;34m)\u001b[0m\u001b[0;34m\u001b[0m\u001b[0;34m\u001b[0m\u001b[0m\n\u001b[0;32m----> 3\u001b[0;31m \u001b[0mprint\u001b[0m\u001b[0;34m(\u001b[0m\u001b[0ma\u001b[0m\u001b[0;34m+\u001b[0m\u001b[0mb\u001b[0m\u001b[0;34m)\u001b[0m\u001b[0;34m\u001b[0m\u001b[0;34m\u001b[0m\u001b[0m\n\u001b[0m",
            "\u001b[0;31mUFuncTypeError\u001b[0m: ufunc 'add' did not contain a loop with signature matching types (dtype('<U5'), dtype('<U4')) -> None"
          ]
        }
      ]
    },
    {
      "cell_type": "code",
      "source": [
        "print(a)"
      ],
      "metadata": {
        "colab": {
          "base_uri": "https://localhost:8080/"
        },
        "id": "dH8-PoxMOyuu",
        "outputId": "a2eb74d8-01e6-46df-c115-79e8cd07eb5f"
      },
      "execution_count": 17,
      "outputs": [
        {
          "output_type": "stream",
          "name": "stdout",
          "text": [
            "[[ 2  5  1]\n",
            " [ 3 10 12]\n",
            " [ 2  0  0]]\n"
          ]
        }
      ]
    },
    {
      "cell_type": "markdown",
      "source": [
        "Además, podemos seleccionar filas o columnas enteras usando : solo,"
      ],
      "metadata": {
        "id": "K7EnZVghQCs1"
      }
    },
    {
      "cell_type": "code",
      "source": [
        "print(a[:,1])\n",
        "print(a[1,:])"
      ],
      "metadata": {
        "colab": {
          "base_uri": "https://localhost:8080/"
        },
        "id": "E2qeQqepQE6T",
        "outputId": "922c1b6c-9a86-499f-86ee-e43091a9bf0f"
      },
      "execution_count": 16,
      "outputs": [
        {
          "output_type": "stream",
          "name": "stdout",
          "text": [
            "[ 5 10  0]\n",
            "[ 3 10 12]\n"
          ]
        }
      ]
    },
    {
      "cell_type": "markdown",
      "source": [
        "A veces es importante averiguar los índices de un array donde se cumple una determinada condición. Eso puede hacerse con la función np.where() de Numpy:"
      ],
      "metadata": {
        "id": "QZzOBD6bQPYz"
      }
    },
    {
      "cell_type": "code",
      "source": [
        "a = np.array([[2,5,1],[3,10,12],[2,0,0],[10,10,10]])\n",
        "np.where(a>1)"
      ],
      "metadata": {
        "colab": {
          "base_uri": "https://localhost:8080/"
        },
        "id": "bd1CC19XQQR8",
        "outputId": "bd6566d4-0bf0-4567-829c-b90bd7161b39"
      },
      "execution_count": null,
      "outputs": [
        {
          "output_type": "execute_result",
          "data": {
            "text/plain": [
              "(array([0, 0, 1, 1, 1, 2, 3, 3, 3]), array([0, 1, 0, 1, 2, 0, 0, 1, 2]))"
            ]
          },
          "metadata": {},
          "execution_count": 31
        }
      ]
    },
    {
      "cell_type": "markdown",
      "source": [
        "Esto podemos usarlo directamente para indexar el array y extraer los valores que cumplen con la condición pedida:"
      ],
      "metadata": {
        "id": "dxtoZZrFQSP7"
      }
    },
    {
      "cell_type": "code",
      "source": [
        "a[np.where(a>1)]"
      ],
      "metadata": {
        "colab": {
          "base_uri": "https://localhost:8080/"
        },
        "id": "QI0krXrTQT-z",
        "outputId": "2443554a-387e-4cf3-f731-a4e2131040c2"
      },
      "execution_count": null,
      "outputs": [
        {
          "output_type": "execute_result",
          "data": {
            "text/plain": [
              "array([ 2,  5,  3, 10, 12,  2, 10, 10, 10])"
            ]
          },
          "metadata": {},
          "execution_count": 32
        }
      ]
    },
    {
      "cell_type": "markdown",
      "source": [
        "Hay algunos arrays predefinidos útiles que Numpy puede generar por nosotros, por ejemplo, arrays llenos de 0's o 1's con una forma determinada, o la matriz identidad. Notar que las dimensiones se le pasan como una tupla (...,...,...):"
      ],
      "metadata": {
        "id": "DfFm7PMYQcbD"
      }
    },
    {
      "cell_type": "code",
      "source": [
        "print(np.zeros((2,5)))\n",
        "print(np.ones((2,5)))\n",
        "print(np.eye(7))"
      ],
      "metadata": {
        "colab": {
          "base_uri": "https://localhost:8080/"
        },
        "id": "xZU_6UJaQc0t",
        "outputId": "8692ece8-b34a-4533-ed95-f9322e74c866"
      },
      "execution_count": null,
      "outputs": [
        {
          "output_type": "stream",
          "name": "stdout",
          "text": [
            "[[0. 0. 0. 0. 0.]\n",
            " [0. 0. 0. 0. 0.]]\n",
            "[[1. 1. 1. 1. 1.]\n",
            " [1. 1. 1. 1. 1.]]\n",
            "[[1. 0. 0. 0. 0. 0. 0.]\n",
            " [0. 1. 0. 0. 0. 0. 0.]\n",
            " [0. 0. 1. 0. 0. 0. 0.]\n",
            " [0. 0. 0. 1. 0. 0. 0.]\n",
            " [0. 0. 0. 0. 1. 0. 0.]\n",
            " [0. 0. 0. 0. 0. 1. 0.]\n",
            " [0. 0. 0. 0. 0. 0. 1.]]\n"
          ]
        }
      ]
    },
    {
      "cell_type": "markdown",
      "source": [
        "Atributos\n",
        "\n",
        "Devuelve el número de dimensiones del array."
      ],
      "metadata": {
        "id": "8oCVetlrQiPb"
      }
    },
    {
      "cell_type": "code",
      "source": [
        "a.ndim "
      ],
      "metadata": {
        "colab": {
          "base_uri": "https://localhost:8080/"
        },
        "id": "UaSmTab9Pl7M",
        "outputId": "a6c36061-aa04-407e-ea3c-390415bba5dd"
      },
      "execution_count": 18,
      "outputs": [
        {
          "output_type": "execute_result",
          "data": {
            "text/plain": [
              "2"
            ]
          },
          "metadata": {},
          "execution_count": 18
        }
      ]
    },
    {
      "cell_type": "markdown",
      "source": [
        "Devuelve una tupla con las dimensiones del array."
      ],
      "metadata": {
        "id": "3AUWBhAJQjQE"
      }
    },
    {
      "cell_type": "code",
      "source": [
        "a.shape  "
      ],
      "metadata": {
        "colab": {
          "base_uri": "https://localhost:8080/"
        },
        "id": "Mkno4y6JPvN7",
        "outputId": "4c341778-f70a-4434-f6c4-55d4df240d92"
      },
      "execution_count": 19,
      "outputs": [
        {
          "output_type": "execute_result",
          "data": {
            "text/plain": [
              "(3, 3)"
            ]
          },
          "metadata": {},
          "execution_count": 19
        }
      ]
    },
    {
      "cell_type": "markdown",
      "source": [
        "Devuelve el número de elementos del array."
      ],
      "metadata": {
        "id": "oktbZi66QrYk"
      }
    },
    {
      "cell_type": "code",
      "source": [
        "a.size  "
      ],
      "metadata": {
        "colab": {
          "base_uri": "https://localhost:8080/"
        },
        "id": "w1_xvlKjPvxL",
        "outputId": "5fb5b2bf-54bb-4add-efca-3806566b02ed"
      },
      "execution_count": 20,
      "outputs": [
        {
          "output_type": "execute_result",
          "data": {
            "text/plain": [
              "9"
            ]
          },
          "metadata": {},
          "execution_count": 20
        }
      ]
    },
    {
      "cell_type": "markdown",
      "source": [
        "Devuelve el tipo de datos de los elementos del array."
      ],
      "metadata": {
        "id": "UsfRz31cQuKz"
      }
    },
    {
      "cell_type": "code",
      "source": [
        "a.dtype "
      ],
      "metadata": {
        "colab": {
          "base_uri": "https://localhost:8080/"
        },
        "id": "-ZyTcUOaPz1V",
        "outputId": "215ca3f7-c516-4d74-cf3d-77ea1d14b4ce"
      },
      "execution_count": 21,
      "outputs": [
        {
          "output_type": "execute_result",
          "data": {
            "text/plain": [
              "dtype('int64')"
            ]
          },
          "metadata": {},
          "execution_count": 21
        }
      ]
    }
  ]
}